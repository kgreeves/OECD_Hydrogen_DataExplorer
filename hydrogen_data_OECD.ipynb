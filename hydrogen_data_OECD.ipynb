{
 "cells": [
  {
   "cell_type": "code",
   "execution_count": 1,
   "id": "879bd254",
   "metadata": {},
   "outputs": [],
   "source": [
    "import pandas as pd\n",
    "import numpy as np\n",
    "import json\n",
    "\n",
    "import matplotlib.pyplot as plt\n",
    "import seaborn as sns"
   ]
  },
  {
   "cell_type": "code",
   "execution_count": 24,
   "id": "d612c339",
   "metadata": {},
   "outputs": [],
   "source": [
    "_FILE_DIR = './app/data/'"
   ]
  },
  {
   "cell_type": "code",
   "execution_count": 25,
   "id": "8c773cc6",
   "metadata": {},
   "outputs": [
    {
     "name": "stderr",
     "output_type": "stream",
     "text": [
      "/Users/kgreeves/anaconda3/lib/python3.10/site-packages/openpyxl/worksheet/_read_only.py:79: UserWarning:\n",
      "\n",
      "Data Validation extension is not supported and will be removed\n",
      "\n"
     ]
    }
   ],
   "source": [
    "raw_data = pd.read_excel(_FILE_DIR+'Hydrogen_projects_database_public_version.xlsx', sheet_name='Projects')"
   ]
  },
  {
   "cell_type": "code",
   "execution_count": 26,
   "id": "59d95eef",
   "metadata": {},
   "outputs": [],
   "source": [
    "col_names = raw_data.iloc[:3,:]\n",
    "raw_data = raw_data.iloc[3:,:].reset_index(drop=True)\n",
    "raw_data.columns = col_names.iloc[2,:].tolist()"
   ]
  },
  {
   "cell_type": "code",
   "execution_count": 27,
   "id": "6521f46a",
   "metadata": {},
   "outputs": [],
   "source": [
    "def combine_headings(col_names:pd.DataFrame) -> list:\n",
    "    new_list = []\n",
    "\n",
    "    ## Update First row to fill in NaN\n",
    "    for col in col_names.iloc[0,:]:\n",
    "        if col is not np.nan:\n",
    "            new_list.append(col)\n",
    "        elif col is np.nan and len(new_list) > 0:\n",
    "            new_list.append(new_list[-1])\n",
    "        else:\n",
    "\n",
    "            new_list.append(f'unknown-{len(new_list)}')\n",
    "\n",
    "    ## If not NaN in second row, append to first row.\n",
    "    for i, sub_col in enumerate(col_names.iloc[1,:]):\n",
    "        if sub_col is not np.nan:\n",
    "            new_list[i] += ': '+str(sub_col)\n",
    "\n",
    "    return new_list\n",
    "\n",
    "def generate_column_dictionary(keys:list, values:list)->dict:\n",
    "    return {keys[i]: values[i] for i in range(len(keys))}"
   ]
  },
  {
   "cell_type": "code",
   "execution_count": 28,
   "id": "3d7caedb",
   "metadata": {},
   "outputs": [],
   "source": [
    "## Generate and store dictionary relating df col names and description.\n",
    "\n",
    "column_dictionary = generate_column_dictionary(col_names.iloc[2,:].tolist(),\n",
    "                           combine_headings(col_names))\n",
    "\n",
    "with open('column_dictionary.dict', 'w') as file:\n",
    "    file.write(json.dumps(column_dictionary))"
   ]
  },
  {
   "cell_type": "code",
   "execution_count": 55,
   "id": "f87e8f7b",
   "metadata": {},
   "outputs": [],
   "source": [
    "num_col_list = [1,4,5,27,28,29,30,31]\n",
    "bool_col_list = [12,13,14,15,16,17,18,19,20,21,22,23,24,25]\n",
    "string_col_list = [2,3,6,7,8,9,10,11,26,32] # Additional work to convert Column26 to value and units. \n",
    "\n",
    "NUMERIC_COLS = ['Column'+str(i) for i in num_col_list]\n",
    "BOOL_COLS = ['Column'+str(i) for i in bool_col_list]\n",
    "STRING_COLS = ['Column'+str(i) for i in string_col_list]"
   ]
  },
  {
   "cell_type": "code",
   "execution_count": 87,
   "id": "1b7c7edc",
   "metadata": {},
   "outputs": [],
   "source": [
    "for col in NUMERIC_COLS:\n",
    "    raw_data[col] = pd.to_numeric(raw_data[col]) # int64 will be treated as floats as there are NaN values in all columns.\n",
    "    \n",
    "raw_data[BOOL_COLS] = raw_data[BOOL_COLS].fillna(0).astype(bool)\n",
    "\n",
    "raw_data[['Column1','Column4','Column5']] = raw_data[['Column1','Column4','Column5']].fillna(9999).astype(int)\n",
    "\n",
    "    "
   ]
  },
  {
   "cell_type": "code",
   "execution_count": 167,
   "id": "1a47f11f",
   "metadata": {},
   "outputs": [
    {
     "data": {
      "text/html": [
       "<div>\n",
       "<style scoped>\n",
       "    .dataframe tbody tr th:only-of-type {\n",
       "        vertical-align: middle;\n",
       "    }\n",
       "\n",
       "    .dataframe tbody tr th {\n",
       "        vertical-align: top;\n",
       "    }\n",
       "\n",
       "    .dataframe thead th {\n",
       "        text-align: right;\n",
       "    }\n",
       "</style>\n",
       "<table border=\"1\" class=\"dataframe\">\n",
       "  <thead>\n",
       "    <tr style=\"text-align: right;\">\n",
       "      <th></th>\n",
       "      <th>Column1</th>\n",
       "      <th>Column2</th>\n",
       "      <th>Column3</th>\n",
       "      <th>Column4</th>\n",
       "      <th>Column5</th>\n",
       "      <th>Column6</th>\n",
       "      <th>Column7</th>\n",
       "      <th>Column8</th>\n",
       "      <th>Column9</th>\n",
       "      <th>Column10</th>\n",
       "      <th>...</th>\n",
       "      <th>Column26</th>\n",
       "      <th>Column27</th>\n",
       "      <th>Column28</th>\n",
       "      <th>Column29</th>\n",
       "      <th>Column30</th>\n",
       "      <th>Column31</th>\n",
       "      <th>Column32</th>\n",
       "      <th>sum</th>\n",
       "      <th>enduse_sum</th>\n",
       "      <th>enduse</th>\n",
       "    </tr>\n",
       "  </thead>\n",
       "  <tbody>\n",
       "    <tr>\n",
       "      <th>0</th>\n",
       "      <td>0</td>\n",
       "      <td>Other projects from confidential sources (post...</td>\n",
       "      <td>NaN</td>\n",
       "      <td>9999</td>\n",
       "      <td>9999</td>\n",
       "      <td>Other/Unknown</td>\n",
       "      <td>NG w CCUS</td>\n",
       "      <td>NaN</td>\n",
       "      <td>NaN</td>\n",
       "      <td>NaN</td>\n",
       "      <td>...</td>\n",
       "      <td>3000kt H2/y</td>\n",
       "      <td>NaN</td>\n",
       "      <td>3.847930e+06</td>\n",
       "      <td>3000.000000</td>\n",
       "      <td>NaN</td>\n",
       "      <td>0.000000e+00</td>\n",
       "      <td>NaN</td>\n",
       "      <td>0</td>\n",
       "      <td>0</td>\n",
       "      <td>NaN</td>\n",
       "    </tr>\n",
       "    <tr>\n",
       "      <th>1</th>\n",
       "      <td>0</td>\n",
       "      <td>Other projects from confidential sources (post...</td>\n",
       "      <td>NaN</td>\n",
       "      <td>9999</td>\n",
       "      <td>9999</td>\n",
       "      <td>Other/Unknown</td>\n",
       "      <td>Other</td>\n",
       "      <td>Various types</td>\n",
       "      <td>NaN</td>\n",
       "      <td>NaN</td>\n",
       "      <td>...</td>\n",
       "      <td>165kt H2/y</td>\n",
       "      <td>NaN</td>\n",
       "      <td>2.116361e+05</td>\n",
       "      <td>165.000000</td>\n",
       "      <td>NaN</td>\n",
       "      <td>0.000000e+00</td>\n",
       "      <td>NaN</td>\n",
       "      <td>0</td>\n",
       "      <td>0</td>\n",
       "      <td>NaN</td>\n",
       "    </tr>\n",
       "    <tr>\n",
       "      <th>2</th>\n",
       "      <td>0</td>\n",
       "      <td>Other projects from confidential sources (post...</td>\n",
       "      <td>NaN</td>\n",
       "      <td>9999</td>\n",
       "      <td>9999</td>\n",
       "      <td>Other/Unknown</td>\n",
       "      <td>Other Electrolysis</td>\n",
       "      <td>Various types</td>\n",
       "      <td>NaN</td>\n",
       "      <td>NaN</td>\n",
       "      <td>...</td>\n",
       "      <td>14.3GW</td>\n",
       "      <td>14300.000000</td>\n",
       "      <td>3.177778e+06</td>\n",
       "      <td>2477.522667</td>\n",
       "      <td>NaN</td>\n",
       "      <td>3.177778e+06</td>\n",
       "      <td>NaN</td>\n",
       "      <td>0</td>\n",
       "      <td>0</td>\n",
       "      <td>NaN</td>\n",
       "    </tr>\n",
       "    <tr>\n",
       "      <th>3</th>\n",
       "      <td>0</td>\n",
       "      <td>Other projects from confidential sources (2000...</td>\n",
       "      <td>NaN</td>\n",
       "      <td>9999</td>\n",
       "      <td>9999</td>\n",
       "      <td>Operational</td>\n",
       "      <td>PEM</td>\n",
       "      <td>NaN</td>\n",
       "      <td>NaN</td>\n",
       "      <td>NaN</td>\n",
       "      <td>...</td>\n",
       "      <td>77MW</td>\n",
       "      <td>77.000000</td>\n",
       "      <td>1.480769e+04</td>\n",
       "      <td>11.544669</td>\n",
       "      <td>NaN</td>\n",
       "      <td>1.480769e+04</td>\n",
       "      <td>NaN</td>\n",
       "      <td>0</td>\n",
       "      <td>0</td>\n",
       "      <td>NaN</td>\n",
       "    </tr>\n",
       "    <tr>\n",
       "      <th>4</th>\n",
       "      <td>0</td>\n",
       "      <td>Other projects from confidential sources (2000...</td>\n",
       "      <td>NaN</td>\n",
       "      <td>9999</td>\n",
       "      <td>9999</td>\n",
       "      <td>Operational</td>\n",
       "      <td>ALK</td>\n",
       "      <td>NaN</td>\n",
       "      <td>NaN</td>\n",
       "      <td>NaN</td>\n",
       "      <td>...</td>\n",
       "      <td>20MW</td>\n",
       "      <td>20.000000</td>\n",
       "      <td>4.347826e+03</td>\n",
       "      <td>3.389739</td>\n",
       "      <td>NaN</td>\n",
       "      <td>4.347826e+03</td>\n",
       "      <td>NaN</td>\n",
       "      <td>0</td>\n",
       "      <td>0</td>\n",
       "      <td>NaN</td>\n",
       "    </tr>\n",
       "    <tr>\n",
       "      <th>...</th>\n",
       "      <td>...</td>\n",
       "      <td>...</td>\n",
       "      <td>...</td>\n",
       "      <td>...</td>\n",
       "      <td>...</td>\n",
       "      <td>...</td>\n",
       "      <td>...</td>\n",
       "      <td>...</td>\n",
       "      <td>...</td>\n",
       "      <td>...</td>\n",
       "      <td>...</td>\n",
       "      <td>...</td>\n",
       "      <td>...</td>\n",
       "      <td>...</td>\n",
       "      <td>...</td>\n",
       "      <td>...</td>\n",
       "      <td>...</td>\n",
       "      <td>...</td>\n",
       "      <td>...</td>\n",
       "      <td>...</td>\n",
       "      <td>...</td>\n",
       "    </tr>\n",
       "    <tr>\n",
       "      <th>1472</th>\n",
       "      <td>1929</td>\n",
       "      <td>Sohar Port, phase 2</td>\n",
       "      <td>OMN</td>\n",
       "      <td>9999</td>\n",
       "      <td>9999</td>\n",
       "      <td>Concept</td>\n",
       "      <td>Other Electrolysis</td>\n",
       "      <td>Unknown PtX</td>\n",
       "      <td>Dedicated renewable</td>\n",
       "      <td>Unknown</td>\n",
       "      <td>...</td>\n",
       "      <td>350MW</td>\n",
       "      <td>315.000000</td>\n",
       "      <td>7.000000e+04</td>\n",
       "      <td>54.574800</td>\n",
       "      <td>NaN</td>\n",
       "      <td>7.000000e+04</td>\n",
       "      <td>[1548]</td>\n",
       "      <td>1</td>\n",
       "      <td>1</td>\n",
       "      <td>Column15</td>\n",
       "    </tr>\n",
       "    <tr>\n",
       "      <th>1473</th>\n",
       "      <td>1930</td>\n",
       "      <td>MoU Acme-Govt of Karnataka, phase 1</td>\n",
       "      <td>IND</td>\n",
       "      <td>2027</td>\n",
       "      <td>9999</td>\n",
       "      <td>Concept</td>\n",
       "      <td>Other Electrolysis</td>\n",
       "      <td>Unknown PtX</td>\n",
       "      <td>Dedicated renewable</td>\n",
       "      <td>Solar PV</td>\n",
       "      <td>...</td>\n",
       "      <td>0.1 Mt NH3/y</td>\n",
       "      <td>103.935679</td>\n",
       "      <td>2.309682e+04</td>\n",
       "      <td>18.007203</td>\n",
       "      <td>NaN</td>\n",
       "      <td>2.309682e+04</td>\n",
       "      <td>[1549]</td>\n",
       "      <td>1</td>\n",
       "      <td>1</td>\n",
       "      <td>Column13</td>\n",
       "    </tr>\n",
       "    <tr>\n",
       "      <th>1474</th>\n",
       "      <td>1931</td>\n",
       "      <td>Energy Hub at MIRA Technology Park.</td>\n",
       "      <td>GBR</td>\n",
       "      <td>2022</td>\n",
       "      <td>9999</td>\n",
       "      <td>FID</td>\n",
       "      <td>Other Electrolysis</td>\n",
       "      <td>Membrane-free electrolyser</td>\n",
       "      <td>Other/Unknown</td>\n",
       "      <td>NaN</td>\n",
       "      <td>...</td>\n",
       "      <td>1.1MW</td>\n",
       "      <td>1.100000</td>\n",
       "      <td>2.444444e+02</td>\n",
       "      <td>0.190579</td>\n",
       "      <td>NaN</td>\n",
       "      <td>2.444444e+02</td>\n",
       "      <td>[1550]</td>\n",
       "      <td>1</td>\n",
       "      <td>1</td>\n",
       "      <td>Column17</td>\n",
       "    </tr>\n",
       "    <tr>\n",
       "      <th>1475</th>\n",
       "      <td>1932</td>\n",
       "      <td>CF Industries - Mitsui Gulf Coast plant</td>\n",
       "      <td>USA</td>\n",
       "      <td>2027</td>\n",
       "      <td>9999</td>\n",
       "      <td>Feasibility study</td>\n",
       "      <td>NG w CCUS</td>\n",
       "      <td>Unknown Technology</td>\n",
       "      <td>NaN</td>\n",
       "      <td>NaN</td>\n",
       "      <td>...</td>\n",
       "      <td>1-1.4 Mt NH3/y</td>\n",
       "      <td>NaN</td>\n",
       "      <td>3.233554e+05</td>\n",
       "      <td>252.100840</td>\n",
       "      <td>NaN</td>\n",
       "      <td>0.000000e+00</td>\n",
       "      <td>[1551] [1552]</td>\n",
       "      <td>1</td>\n",
       "      <td>1</td>\n",
       "      <td>Column13</td>\n",
       "    </tr>\n",
       "    <tr>\n",
       "      <th>1476</th>\n",
       "      <td>1933</td>\n",
       "      <td>MoU Acme-Govt of Karnataka, phase 2</td>\n",
       "      <td>IND</td>\n",
       "      <td>9999</td>\n",
       "      <td>9999</td>\n",
       "      <td>Concept</td>\n",
       "      <td>Other Electrolysis</td>\n",
       "      <td>Unknown PtX</td>\n",
       "      <td>Dedicated renewable</td>\n",
       "      <td>Solar PV</td>\n",
       "      <td>...</td>\n",
       "      <td>1.2 Mt NH3/y</td>\n",
       "      <td>1143.292472</td>\n",
       "      <td>2.540650e+05</td>\n",
       "      <td>198.079232</td>\n",
       "      <td>NaN</td>\n",
       "      <td>2.540650e+05</td>\n",
       "      <td>[1549]</td>\n",
       "      <td>1</td>\n",
       "      <td>1</td>\n",
       "      <td>Column13</td>\n",
       "    </tr>\n",
       "  </tbody>\n",
       "</table>\n",
       "<p>1477 rows × 35 columns</p>\n",
       "</div>"
      ],
      "text/plain": [
       "      Column1                                            Column2 Column3  \\\n",
       "0           0  Other projects from confidential sources (post...     NaN   \n",
       "1           0  Other projects from confidential sources (post...     NaN   \n",
       "2           0  Other projects from confidential sources (post...     NaN   \n",
       "3           0  Other projects from confidential sources (2000...     NaN   \n",
       "4           0  Other projects from confidential sources (2000...     NaN   \n",
       "...       ...                                                ...     ...   \n",
       "1472     1929                                Sohar Port, phase 2     OMN   \n",
       "1473     1930                MoU Acme-Govt of Karnataka, phase 1     IND   \n",
       "1474     1931                Energy Hub at MIRA Technology Park.     GBR   \n",
       "1475     1932            CF Industries - Mitsui Gulf Coast plant     USA   \n",
       "1476     1933                MoU Acme-Govt of Karnataka, phase 2     IND   \n",
       "\n",
       "      Column4  Column5            Column6             Column7  \\\n",
       "0        9999     9999      Other/Unknown           NG w CCUS   \n",
       "1        9999     9999      Other/Unknown               Other   \n",
       "2        9999     9999      Other/Unknown  Other Electrolysis   \n",
       "3        9999     9999        Operational                 PEM   \n",
       "4        9999     9999        Operational                 ALK   \n",
       "...       ...      ...                ...                 ...   \n",
       "1472     9999     9999            Concept  Other Electrolysis   \n",
       "1473     2027     9999            Concept  Other Electrolysis   \n",
       "1474     2022     9999                FID  Other Electrolysis   \n",
       "1475     2027     9999  Feasibility study           NG w CCUS   \n",
       "1476     9999     9999            Concept  Other Electrolysis   \n",
       "\n",
       "                         Column8              Column9  Column10  ...  \\\n",
       "0                            NaN                  NaN       NaN  ...   \n",
       "1                  Various types                  NaN       NaN  ...   \n",
       "2                  Various types                  NaN       NaN  ...   \n",
       "3                            NaN                  NaN       NaN  ...   \n",
       "4                            NaN                  NaN       NaN  ...   \n",
       "...                          ...                  ...       ...  ...   \n",
       "1472                 Unknown PtX  Dedicated renewable   Unknown  ...   \n",
       "1473                 Unknown PtX  Dedicated renewable  Solar PV  ...   \n",
       "1474  Membrane-free electrolyser        Other/Unknown       NaN  ...   \n",
       "1475          Unknown Technology                  NaN       NaN  ...   \n",
       "1476                 Unknown PtX  Dedicated renewable  Solar PV  ...   \n",
       "\n",
       "            Column26      Column27      Column28     Column29  Column30  \\\n",
       "0        3000kt H2/y           NaN  3.847930e+06  3000.000000       NaN   \n",
       "1         165kt H2/y           NaN  2.116361e+05   165.000000       NaN   \n",
       "2             14.3GW  14300.000000  3.177778e+06  2477.522667       NaN   \n",
       "3               77MW     77.000000  1.480769e+04    11.544669       NaN   \n",
       "4               20MW     20.000000  4.347826e+03     3.389739       NaN   \n",
       "...              ...           ...           ...          ...       ...   \n",
       "1472           350MW    315.000000  7.000000e+04    54.574800       NaN   \n",
       "1473    0.1 Mt NH3/y    103.935679  2.309682e+04    18.007203       NaN   \n",
       "1474           1.1MW      1.100000  2.444444e+02     0.190579       NaN   \n",
       "1475  1-1.4 Mt NH3/y           NaN  3.233554e+05   252.100840       NaN   \n",
       "1476    1.2 Mt NH3/y   1143.292472  2.540650e+05   198.079232       NaN   \n",
       "\n",
       "          Column31       Column32  sum  enduse_sum    enduse  \n",
       "0     0.000000e+00            NaN    0           0       NaN  \n",
       "1     0.000000e+00            NaN    0           0       NaN  \n",
       "2     3.177778e+06            NaN    0           0       NaN  \n",
       "3     1.480769e+04            NaN    0           0       NaN  \n",
       "4     4.347826e+03            NaN    0           0       NaN  \n",
       "...            ...            ...  ...         ...       ...  \n",
       "1472  7.000000e+04         [1548]    1           1  Column15  \n",
       "1473  2.309682e+04         [1549]    1           1  Column13  \n",
       "1474  2.444444e+02         [1550]    1           1  Column17  \n",
       "1475  0.000000e+00  [1551] [1552]    1           1  Column13  \n",
       "1476  2.540650e+05         [1549]    1           1  Column13  \n",
       "\n",
       "[1477 rows x 35 columns]"
      ]
     },
     "execution_count": 167,
     "metadata": {},
     "output_type": "execute_result"
    }
   ],
   "source": [
    "raw_data"
   ]
  },
  {
   "cell_type": "code",
   "execution_count": 88,
   "id": "41cbbc91",
   "metadata": {},
   "outputs": [
    {
     "data": {
      "text/plain": [
       "Column1        0\n",
       "Column2        0\n",
       "Column3       10\n",
       "Column4        0\n",
       "Column5        0\n",
       "Column6        2\n",
       "Column7        3\n",
       "Column8      587\n",
       "Column9      171\n",
       "Column10     639\n",
       "Column11      16\n",
       "Column12       0\n",
       "Column13       0\n",
       "Column14       0\n",
       "Column15       0\n",
       "Column16       0\n",
       "Column17       0\n",
       "Column18       0\n",
       "Column19       0\n",
       "Column20       0\n",
       "Column21       0\n",
       "Column22       0\n",
       "Column23       0\n",
       "Column24       0\n",
       "Column25       0\n",
       "Column26     231\n",
       "Column27     358\n",
       "Column28     273\n",
       "Column29     266\n",
       "Column30    1413\n",
       "Column31      96\n",
       "Column32      98\n",
       "dtype: int64"
      ]
     },
     "execution_count": 88,
     "metadata": {},
     "output_type": "execute_result"
    }
   ],
   "source": [
    "raw_data.isna().sum(axis=0)"
   ]
  },
  {
   "cell_type": "code",
   "execution_count": 52,
   "id": "502f3167",
   "metadata": {},
   "outputs": [
    {
     "data": {
      "text/plain": [
       "{'Column1': 'Ref',\n",
       " 'Column2': 'Project name',\n",
       " 'Column3': 'Country',\n",
       " 'Column4': 'Date online',\n",
       " 'Column5': 'Decomission date',\n",
       " 'Column6': 'Status',\n",
       " 'Column7': 'Technology',\n",
       " 'Column8': 'Technology: Technology Comments',\n",
       " 'Column9': 'Technology: Type of electricity (for electrolysis projects)',\n",
       " 'Column10': 'Technology: If dedicated renewables, type of renewable',\n",
       " 'Column11': 'Product',\n",
       " 'Column12': 'End use: Refining',\n",
       " 'Column13': 'End use: Ammonia',\n",
       " 'Column14': 'End use: Methanol',\n",
       " 'Column15': 'End use: Iron&Steel',\n",
       " 'Column16': 'End use: Other Ind',\n",
       " 'Column17': 'End use: Mobility',\n",
       " 'Column18': 'End use: Power',\n",
       " 'Column19': 'End use: Grid inj.',\n",
       " 'Column20': 'End use: CHP',\n",
       " 'Column21': 'End use: Domestic heat',\n",
       " 'Column22': 'End use: Biofuels',\n",
       " 'Column23': 'End use: Synfuels',\n",
       " 'Column24': 'End use: CH4 grid inj.',\n",
       " 'Column25': 'End use: CH4 mobility',\n",
       " 'Column26': 'Announced Size',\n",
       " 'Column27': 'Normalised capacity: MWel',\n",
       " 'Column28': 'Normalised capacity: nm³ H₂/h',\n",
       " 'Column29': 'Normalised capacity: kt H2/y',\n",
       " 'Column30': 'Normalised capacity: t CO₂ captured/y',\n",
       " 'Column31': 'IEA zero-carbon estimated normalized capacity\\n[nm³ H₂/hour]',\n",
       " 'Column32': 'Refs'}"
      ]
     },
     "execution_count": 52,
     "metadata": {},
     "output_type": "execute_result"
    }
   ],
   "source": [
    "column_dictionary"
   ]
  },
  {
   "cell_type": "code",
   "execution_count": 145,
   "id": "e7bf54dc",
   "metadata": {},
   "outputs": [],
   "source": [
    "def gen_enduse_col(x):\n",
    "    print(x.columns)\n",
    "    #if \n",
    "    #raw_data[BOOL_COLS].columns[x.argmax()], axis = 1\n",
    "    "
   ]
  },
  {
   "cell_type": "code",
   "execution_count": 166,
   "id": "3524f71e",
   "metadata": {},
   "outputs": [
    {
     "data": {
      "text/plain": [
       "0            NaN\n",
       "1            NaN\n",
       "2            NaN\n",
       "3            NaN\n",
       "4            NaN\n",
       "          ...   \n",
       "1472    Column15\n",
       "1473    Column13\n",
       "1474    Column17\n",
       "1475    Column13\n",
       "1476    Column13\n",
       "Name: enduse, Length: 1477, dtype: object"
      ]
     },
     "execution_count": 166,
     "metadata": {},
     "output_type": "execute_result"
    }
   ],
   "source": [
    "raw_data['enduse_sum'] = raw_data[BOOL_COLS].sum(axis=1)\n",
    "raw_data['enduse'] = (raw_data[BOOL_COLS]\n",
    "                      .idxmax(axis=1)\n",
    "                      .where(raw_data['enduse_sum'] !=0)\n",
    "                     )\n",
    "#sns.scatterplot(data=raw_data, x='Column26', y='Column31')\n",
    "raw_data['enduse']"
   ]
  },
  {
   "cell_type": "markdown",
   "id": "6f619606",
   "metadata": {},
   "source": [
    "## Generate Static Figure from Dataset"
   ]
  },
  {
   "cell_type": "code",
   "execution_count": 93,
   "id": "3fa08c74",
   "metadata": {},
   "outputs": [
    {
     "data": {
      "text/plain": [
       "{'Other Electrolysis': 791,\n",
       " 'PEM': 291,\n",
       " 'ALK': 195,\n",
       " 'NG w CCUS': 101,\n",
       " 'SOEC': 38,\n",
       " 'Biomass': 25,\n",
       " 'Other': 15,\n",
       " 'Oil w CCUS': 8,\n",
       " 'Coal w CCUS': 8,\n",
       " 'Biomass w CCUS': 2}"
      ]
     },
     "execution_count": 93,
     "metadata": {},
     "output_type": "execute_result"
    }
   ],
   "source": [
    "dict(raw_data['Column7'].dropna().value_counts())"
   ]
  },
  {
   "cell_type": "code",
   "execution_count": 95,
   "id": "21b4786f",
   "metadata": {},
   "outputs": [
    {
     "data": {
      "text/plain": [
       "['NG w CCUS',\n",
       " 'Other',\n",
       " 'Other Electrolysis',\n",
       " 'PEM',\n",
       " 'ALK',\n",
       " 'SOEC',\n",
       " 'Biomass',\n",
       " 'Oil w CCUS',\n",
       " 'Coal w CCUS',\n",
       " 'Biomass w CCUS']"
      ]
     },
     "execution_count": 95,
     "metadata": {},
     "output_type": "execute_result"
    }
   ],
   "source": [
    "raw_data['Column7'].dropna().unique().tolist()"
   ]
  },
  {
   "cell_type": "code",
   "execution_count": 47,
   "id": "a5875748",
   "metadata": {},
   "outputs": [],
   "source": [
    "status_by_endUse = (raw_data[['Column6','Column12','Column13','Column14',\n",
    "                              'Column15','Column16','Column17','Column18',\n",
    "                              'Column19','Column20','Column21','Column22',\n",
    "                              'Column23','Column24','Column25','Column26',]]\n",
    "                    .groupby(by='Column6')\n",
    "                    .sum(numeric_only=True)\n",
    "                    .T\n",
    "                   )\n",
    "status_by_endUse.index = status_by_endUse.index.map(lambda x:\n",
    "                                                    column_dictionary[x].split(':')[1].strip())"
   ]
  },
  {
   "cell_type": "code",
   "execution_count": 48,
   "id": "706e8b76",
   "metadata": {},
   "outputs": [
    {
     "data": {
      "image/png": "[encoded data removed]",
      "text/plain": [
       "<Figure size 640x480 with 1 Axes>"
      ]
     },
     "metadata": {},
     "output_type": "display_data"
    }
   ],
   "source": [
    "## Static Plot Showing the breakdown of ProjectStatus Based for each proposed End Use\n",
    "ax = status_by_endUse.plot.bar(stacked=True)\n",
    "plt.legend(title='Project Status', bbox_to_anchor=(1.05, 1.0), loc='upper left')\n",
    "\n",
    "plt.suptitle('')\n",
    "plt.xlabel('End Use')\n",
    "plt.tight_layout()\n",
    "plt.savefig('./app/img/project_status_by_end_use.png')"
   ]
  },
  {
   "cell_type": "markdown",
   "id": "6ebf3d9a",
   "metadata": {},
   "source": [
    "## Generate Dynamic Figure from Dataset"
   ]
  },
  {
   "cell_type": "code",
   "execution_count": 49,
   "id": "70bf50e5",
   "metadata": {},
   "outputs": [],
   "source": [
    "import plotly.express as px"
   ]
  },
  {
   "cell_type": "code",
   "execution_count": 96,
   "id": "b39f6c71",
   "metadata": {},
   "outputs": [
    {
     "data": {
      "text/html": [
       "<div>\n",
       "<style scoped>\n",
       "    .dataframe tbody tr th:only-of-type {\n",
       "        vertical-align: middle;\n",
       "    }\n",
       "\n",
       "    .dataframe tbody tr th {\n",
       "        vertical-align: top;\n",
       "    }\n",
       "\n",
       "    .dataframe thead th {\n",
       "        text-align: right;\n",
       "    }\n",
       "</style>\n",
       "<table border=\"1\" class=\"dataframe\">\n",
       "  <thead>\n",
       "    <tr style=\"text-align: right;\">\n",
       "      <th>Column6</th>\n",
       "      <th>Concept</th>\n",
       "      <th>DEMO</th>\n",
       "      <th>Decommisioned</th>\n",
       "      <th>FID</th>\n",
       "      <th>Feasibility study</th>\n",
       "      <th>Operational</th>\n",
       "      <th>Other/Unknown</th>\n",
       "      <th>Under construction</th>\n",
       "    </tr>\n",
       "  </thead>\n",
       "  <tbody>\n",
       "    <tr>\n",
       "      <th>Refining</th>\n",
       "      <td>16.0</td>\n",
       "      <td>3.0</td>\n",
       "      <td>0.0</td>\n",
       "      <td>10.0</td>\n",
       "      <td>57.0</td>\n",
       "      <td>10.0</td>\n",
       "      <td>0.0</td>\n",
       "      <td>5.0</td>\n",
       "    </tr>\n",
       "    <tr>\n",
       "      <th>Ammonia</th>\n",
       "      <td>60.0</td>\n",
       "      <td>0.0</td>\n",
       "      <td>2.0</td>\n",
       "      <td>9.0</td>\n",
       "      <td>90.0</td>\n",
       "      <td>9.0</td>\n",
       "      <td>0.0</td>\n",
       "      <td>3.0</td>\n",
       "    </tr>\n",
       "    <tr>\n",
       "      <th>Methanol</th>\n",
       "      <td>8.0</td>\n",
       "      <td>2.0</td>\n",
       "      <td>0.0</td>\n",
       "      <td>4.0</td>\n",
       "      <td>32.0</td>\n",
       "      <td>10.0</td>\n",
       "      <td>0.0</td>\n",
       "      <td>2.0</td>\n",
       "    </tr>\n",
       "    <tr>\n",
       "      <th>Iron&amp;Steel</th>\n",
       "      <td>16.0</td>\n",
       "      <td>2.0</td>\n",
       "      <td>0.0</td>\n",
       "      <td>5.0</td>\n",
       "      <td>37.0</td>\n",
       "      <td>5.0</td>\n",
       "      <td>0.0</td>\n",
       "      <td>2.0</td>\n",
       "    </tr>\n",
       "    <tr>\n",
       "      <th>Other Ind</th>\n",
       "      <td>48.0</td>\n",
       "      <td>11.0</td>\n",
       "      <td>0.0</td>\n",
       "      <td>8.0</td>\n",
       "      <td>88.0</td>\n",
       "      <td>11.0</td>\n",
       "      <td>0.0</td>\n",
       "      <td>3.0</td>\n",
       "    </tr>\n",
       "    <tr>\n",
       "      <th>Mobility</th>\n",
       "      <td>80.0</td>\n",
       "      <td>47.0</td>\n",
       "      <td>0.0</td>\n",
       "      <td>55.0</td>\n",
       "      <td>128.0</td>\n",
       "      <td>101.0</td>\n",
       "      <td>2.0</td>\n",
       "      <td>29.0</td>\n",
       "    </tr>\n",
       "    <tr>\n",
       "      <th>Power</th>\n",
       "      <td>15.0</td>\n",
       "      <td>59.0</td>\n",
       "      <td>0.0</td>\n",
       "      <td>12.0</td>\n",
       "      <td>42.0</td>\n",
       "      <td>63.0</td>\n",
       "      <td>0.0</td>\n",
       "      <td>5.0</td>\n",
       "    </tr>\n",
       "    <tr>\n",
       "      <th>Grid inj.</th>\n",
       "      <td>22.0</td>\n",
       "      <td>21.0</td>\n",
       "      <td>0.0</td>\n",
       "      <td>16.0</td>\n",
       "      <td>49.0</td>\n",
       "      <td>28.0</td>\n",
       "      <td>0.0</td>\n",
       "      <td>7.0</td>\n",
       "    </tr>\n",
       "    <tr>\n",
       "      <th>CHP</th>\n",
       "      <td>1.0</td>\n",
       "      <td>10.0</td>\n",
       "      <td>0.0</td>\n",
       "      <td>1.0</td>\n",
       "      <td>3.0</td>\n",
       "      <td>12.0</td>\n",
       "      <td>0.0</td>\n",
       "      <td>0.0</td>\n",
       "    </tr>\n",
       "    <tr>\n",
       "      <th>Domestic heat</th>\n",
       "      <td>3.0</td>\n",
       "      <td>5.0</td>\n",
       "      <td>0.0</td>\n",
       "      <td>4.0</td>\n",
       "      <td>7.0</td>\n",
       "      <td>3.0</td>\n",
       "      <td>0.0</td>\n",
       "      <td>0.0</td>\n",
       "    </tr>\n",
       "    <tr>\n",
       "      <th>Biofuels</th>\n",
       "      <td>0.0</td>\n",
       "      <td>0.0</td>\n",
       "      <td>0.0</td>\n",
       "      <td>3.0</td>\n",
       "      <td>6.0</td>\n",
       "      <td>0.0</td>\n",
       "      <td>0.0</td>\n",
       "      <td>1.0</td>\n",
       "    </tr>\n",
       "    <tr>\n",
       "      <th>Synfuels</th>\n",
       "      <td>19.0</td>\n",
       "      <td>10.0</td>\n",
       "      <td>0.0</td>\n",
       "      <td>3.0</td>\n",
       "      <td>27.0</td>\n",
       "      <td>1.0</td>\n",
       "      <td>0.0</td>\n",
       "      <td>9.0</td>\n",
       "    </tr>\n",
       "    <tr>\n",
       "      <th>CH4 grid inj.</th>\n",
       "      <td>5.0</td>\n",
       "      <td>35.0</td>\n",
       "      <td>0.0</td>\n",
       "      <td>2.0</td>\n",
       "      <td>4.0</td>\n",
       "      <td>17.0</td>\n",
       "      <td>1.0</td>\n",
       "      <td>1.0</td>\n",
       "    </tr>\n",
       "    <tr>\n",
       "      <th>CH4 mobility</th>\n",
       "      <td>1.0</td>\n",
       "      <td>13.0</td>\n",
       "      <td>0.0</td>\n",
       "      <td>0.0</td>\n",
       "      <td>1.0</td>\n",
       "      <td>1.0</td>\n",
       "      <td>0.0</td>\n",
       "      <td>0.0</td>\n",
       "    </tr>\n",
       "  </tbody>\n",
       "</table>\n",
       "</div>"
      ],
      "text/plain": [
       "Column6        Concept  DEMO  Decommisioned   FID  Feasibility study  \\\n",
       "Refining          16.0   3.0            0.0  10.0               57.0   \n",
       "Ammonia           60.0   0.0            2.0   9.0               90.0   \n",
       "Methanol           8.0   2.0            0.0   4.0               32.0   \n",
       "Iron&Steel        16.0   2.0            0.0   5.0               37.0   \n",
       "Other Ind         48.0  11.0            0.0   8.0               88.0   \n",
       "Mobility          80.0  47.0            0.0  55.0              128.0   \n",
       "Power             15.0  59.0            0.0  12.0               42.0   \n",
       "Grid inj.         22.0  21.0            0.0  16.0               49.0   \n",
       "CHP                1.0  10.0            0.0   1.0                3.0   \n",
       "Domestic heat      3.0   5.0            0.0   4.0                7.0   \n",
       "Biofuels           0.0   0.0            0.0   3.0                6.0   \n",
       "Synfuels          19.0  10.0            0.0   3.0               27.0   \n",
       "CH4 grid inj.      5.0  35.0            0.0   2.0                4.0   \n",
       "CH4 mobility       1.0  13.0            0.0   0.0                1.0   \n",
       "\n",
       "Column6        Operational  Other/Unknown  Under construction  \n",
       "Refining              10.0            0.0                 5.0  \n",
       "Ammonia                9.0            0.0                 3.0  \n",
       "Methanol              10.0            0.0                 2.0  \n",
       "Iron&Steel             5.0            0.0                 2.0  \n",
       "Other Ind             11.0            0.0                 3.0  \n",
       "Mobility             101.0            2.0                29.0  \n",
       "Power                 63.0            0.0                 5.0  \n",
       "Grid inj.             28.0            0.0                 7.0  \n",
       "CHP                   12.0            0.0                 0.0  \n",
       "Domestic heat          3.0            0.0                 0.0  \n",
       "Biofuels               0.0            0.0                 1.0  \n",
       "Synfuels               1.0            0.0                 9.0  \n",
       "CH4 grid inj.         17.0            1.0                 1.0  \n",
       "CH4 mobility           1.0            0.0                 0.0  "
      ]
     },
     "execution_count": 96,
     "metadata": {},
     "output_type": "execute_result"
    }
   ],
   "source": [
    "status_by_endUse"
   ]
  },
  {
   "cell_type": "code",
   "execution_count": 50,
   "id": "0427cef8",
   "metadata": {},
   "outputs": [
    {
     "data": {
      "application/vnd.plotly.v1+json": {
       "config": {
        "plotlyServerURL": "https://plot.ly"
       },
       "data": [
        {
         "alignmentgroup": "True",
         "hovertemplate": "End Use: %{x}<br>Count: %{y}",
         "legendgroup": "Concept",
         "marker": {
          "color": "#636efa",
          "pattern": {
           "shape": ""
          }
         },
         "name": "Concept",
         "offsetgroup": "Concept",
         "orientation": "v",
         "showlegend": true,
         "textposition": "auto",
         "type": "bar",
         "x": [
          "Refining",
          "Ammonia",
          "Methanol",
          "Iron&Steel",
          "Other Ind",
          "Mobility",
          "Power",
          "Grid inj.",
          "CHP",
          "Domestic heat",
          "Biofuels",
          "Synfuels",
          "CH4 grid inj.",
          "CH4 mobility"
         ],
         "xaxis": "x",
         "y": [
          16,
          60,
          8,
          16,
          48,
          80,
          15,
          22,
          1,
          3,
          0,
          19,
          5,
          1
         ],
         "yaxis": "y"
        },
        {
         "alignmentgroup": "True",
         "hovertemplate": "End Use: %{x}<br>Count: %{y}",
         "legendgroup": "DEMO",
         "marker": {
          "color": "#EF553B",
          "pattern": {
           "shape": ""
          }
         },
         "name": "DEMO",
         "offsetgroup": "DEMO",
         "orientation": "v",
         "showlegend": true,
         "textposition": "auto",
         "type": "bar",
         "x": [
          "Refining",
          "Ammonia",
          "Methanol",
          "Iron&Steel",
          "Other Ind",
          "Mobility",
          "Power",
          "Grid inj.",
          "CHP",
          "Domestic heat",
          "Biofuels",
          "Synfuels",
          "CH4 grid inj.",
          "CH4 mobility"
         ],
         "xaxis": "x",
         "y": [
          3,
          0,
          2,
          2,
          11,
          47,
          59,
          21,
          10,
          5,
          0,
          10,
          35,
          13
         ],
         "yaxis": "y"
        },
        {
         "alignmentgroup": "True",
         "hovertemplate": "End Use: %{x}<br>Count: %{y}",
         "legendgroup": "Decommisioned",
         "marker": {
          "color": "#00cc96",
          "pattern": {
           "shape": ""
          }
         },
         "name": "Decommisioned",
         "offsetgroup": "Decommisioned",
         "orientation": "v",
         "showlegend": true,
         "textposition": "auto",
         "type": "bar",
         "x": [
          "Refining",
          "Ammonia",
          "Methanol",
          "Iron&Steel",
          "Other Ind",
          "Mobility",
          "Power",
          "Grid inj.",
          "CHP",
          "Domestic heat",
          "Biofuels",
          "Synfuels",
          "CH4 grid inj.",
          "CH4 mobility"
         ],
         "xaxis": "x",
         "y": [
          0,
          2,
          0,
          0,
          0,
          0,
          0,
          0,
          0,
          0,
          0,
          0,
          0,
          0
         ],
         "yaxis": "y"
        },
        {
         "alignmentgroup": "True",
         "hovertemplate": "End Use: %{x}<br>Count: %{y}",
         "legendgroup": "FID",
         "marker": {
          "color": "#ab63fa",
          "pattern": {
           "shape": ""
          }
         },
         "name": "FID",
         "offsetgroup": "FID",
         "orientation": "v",
         "showlegend": true,
         "textposition": "auto",
         "type": "bar",
         "x": [
          "Refining",
          "Ammonia",
          "Methanol",
          "Iron&Steel",
          "Other Ind",
          "Mobility",
          "Power",
          "Grid inj.",
          "CHP",
          "Domestic heat",
          "Biofuels",
          "Synfuels",
          "CH4 grid inj.",
          "CH4 mobility"
         ],
         "xaxis": "x",
         "y": [
          10,
          9,
          4,
          5,
          8,
          55,
          12,
          16,
          1,
          4,
          3,
          3,
          2,
          0
         ],
         "yaxis": "y"
        },
        {
         "alignmentgroup": "True",
         "hovertemplate": "End Use: %{x}<br>Count: %{y}",
         "legendgroup": "Feasibility study",
         "marker": {
          "color": "#FFA15A",
          "pattern": {
           "shape": ""
          }
         },
         "name": "Feasibility study",
         "offsetgroup": "Feasibility study",
         "orientation": "v",
         "showlegend": true,
         "textposition": "auto",
         "type": "bar",
         "x": [
          "Refining",
          "Ammonia",
          "Methanol",
          "Iron&Steel",
          "Other Ind",
          "Mobility",
          "Power",
          "Grid inj.",
          "CHP",
          "Domestic heat",
          "Biofuels",
          "Synfuels",
          "CH4 grid inj.",
          "CH4 mobility"
         ],
         "xaxis": "x",
         "y": [
          57,
          90,
          32,
          37,
          88,
          128,
          42,
          49,
          3,
          7,
          6,
          27,
          4,
          1
         ],
         "yaxis": "y"
        },
        {
         "alignmentgroup": "True",
         "hovertemplate": "End Use: %{x}<br>Count: %{y}",
         "legendgroup": "Operational",
         "marker": {
          "color": "#19d3f3",
          "pattern": {
           "shape": ""
          }
         },
         "name": "Operational",
         "offsetgroup": "Operational",
         "orientation": "v",
         "showlegend": true,
         "textposition": "auto",
         "type": "bar",
         "x": [
          "Refining",
          "Ammonia",
          "Methanol",
          "Iron&Steel",
          "Other Ind",
          "Mobility",
          "Power",
          "Grid inj.",
          "CHP",
          "Domestic heat",
          "Biofuels",
          "Synfuels",
          "CH4 grid inj.",
          "CH4 mobility"
         ],
         "xaxis": "x",
         "y": [
          10,
          9,
          10,
          5,
          11,
          101,
          63,
          28,
          12,
          3,
          0,
          1,
          17,
          1
         ],
         "yaxis": "y"
        },
        {
         "alignmentgroup": "True",
         "hovertemplate": "End Use: %{x}<br>Count: %{y}",
         "legendgroup": "Other/Unknown",
         "marker": {
          "color": "#FF6692",
          "pattern": {
           "shape": ""
          }
         },
         "name": "Other/Unknown",
         "offsetgroup": "Other/Unknown",
         "orientation": "v",
         "showlegend": true,
         "textposition": "auto",
         "type": "bar",
         "x": [
          "Refining",
          "Ammonia",
          "Methanol",
          "Iron&Steel",
          "Other Ind",
          "Mobility",
          "Power",
          "Grid inj.",
          "CHP",
          "Domestic heat",
          "Biofuels",
          "Synfuels",
          "CH4 grid inj.",
          "CH4 mobility"
         ],
         "xaxis": "x",
         "y": [
          0,
          0,
          0,
          0,
          0,
          2,
          0,
          0,
          0,
          0,
          0,
          0,
          1,
          0
         ],
         "yaxis": "y"
        },
        {
         "alignmentgroup": "True",
         "hovertemplate": "End Use: %{x}<br>Count: %{y}",
         "legendgroup": "Under construction",
         "marker": {
          "color": "#B6E880",
          "pattern": {
           "shape": ""
          }
         },
         "name": "Under construction",
         "offsetgroup": "Under construction",
         "orientation": "v",
         "showlegend": true,
         "textposition": "auto",
         "type": "bar",
         "x": [
          "Refining",
          "Ammonia",
          "Methanol",
          "Iron&Steel",
          "Other Ind",
          "Mobility",
          "Power",
          "Grid inj.",
          "CHP",
          "Domestic heat",
          "Biofuels",
          "Synfuels",
          "CH4 grid inj.",
          "CH4 mobility"
         ],
         "xaxis": "x",
         "y": [
          5,
          3,
          2,
          2,
          3,
          29,
          5,
          7,
          0,
          0,
          1,
          9,
          1,
          0
         ],
         "yaxis": "y"
        }
       ],
       "layout": {
        "barmode": "relative",
        "legend": {
         "title": {
          "text": "Status"
         },
         "tracegroupgap": 0
        },
        "margin": {
         "t": 60
        },
        "template": {
         "data": {
          "bar": [
           {
            "error_x": {
             "color": "#2a3f5f"
            },
            "error_y": {
             "color": "#2a3f5f"
            },
            "marker": {
             "line": {
              "color": "#E5ECF6",
              "width": 0.5
             },
             "pattern": {
              "fillmode": "overlay",
              "size": 10,
              "solidity": 0.2
             }
            },
            "type": "bar"
           }
          ],
          "barpolar": [
           {
            "marker": {
             "line": {
              "color": "#E5ECF6",
              "width": 0.5
             },
             "pattern": {
              "fillmode": "overlay",
              "size": 10,
              "solidity": 0.2
             }
            },
            "type": "barpolar"
           }
          ],
          "carpet": [
           {
            "aaxis": {
             "endlinecolor": "#2a3f5f",
             "gridcolor": "white",
             "linecolor": "white",
             "minorgridcolor": "white",
             "startlinecolor": "#2a3f5f"
            },
            "baxis": {
             "endlinecolor": "#2a3f5f",
             "gridcolor": "white",
             "linecolor": "white",
             "minorgridcolor": "white",
             "startlinecolor": "#2a3f5f"
            },
            "type": "carpet"
           }
          ],
          "choropleth": [
           {
            "colorbar": {
             "outlinewidth": 0,
             "ticks": ""
            },
            "type": "choropleth"
           }
          ],
          "contour": [
           {
            "colorbar": {
             "outlinewidth": 0,
             "ticks": ""
            },
            "colorscale": [
             [
              0,
              "#0d0887"
             ],
             [
              0.1111111111111111,
              "#46039f"
             ],
             [
              0.2222222222222222,
              "#7201a8"
             ],
             [
              0.3333333333333333,
              "#9c179e"
             ],
             [
              0.4444444444444444,
              "#bd3786"
             ],
             [
              0.5555555555555556,
              "#d8576b"
             ],
             [
              0.6666666666666666,
              "#ed7953"
             ],
             [
              0.7777777777777778,
              "#fb9f3a"
             ],
             [
              0.8888888888888888,
              "#fdca26"
             ],
             [
              1,
              "#f0f921"
             ]
            ],
            "type": "contour"
           }
          ],
          "contourcarpet": [
           {
            "colorbar": {
             "outlinewidth": 0,
             "ticks": ""
            },
            "type": "contourcarpet"
           }
          ],
          "heatmap": [
           {
            "colorbar": {
             "outlinewidth": 0,
             "ticks": ""
            },
            "colorscale": [
             [
              0,
              "#0d0887"
             ],
             [
              0.1111111111111111,
              "#46039f"
             ],
             [
              0.2222222222222222,
              "#7201a8"
             ],
             [
              0.3333333333333333,
              "#9c179e"
             ],
             [
              0.4444444444444444,
              "#bd3786"
             ],
             [
              0.5555555555555556,
              "#d8576b"
             ],
             [
              0.6666666666666666,
              "#ed7953"
             ],
             [
              0.7777777777777778,
              "#fb9f3a"
             ],
             [
              0.8888888888888888,
              "#fdca26"
             ],
             [
              1,
              "#f0f921"
             ]
            ],
            "type": "heatmap"
           }
          ],
          "heatmapgl": [
           {
            "colorbar": {
             "outlinewidth": 0,
             "ticks": ""
            },
            "colorscale": [
             [
              0,
              "#0d0887"
             ],
             [
              0.1111111111111111,
              "#46039f"
             ],
             [
              0.2222222222222222,
              "#7201a8"
             ],
             [
              0.3333333333333333,
              "#9c179e"
             ],
             [
              0.4444444444444444,
              "#bd3786"
             ],
             [
              0.5555555555555556,
              "#d8576b"
             ],
             [
              0.6666666666666666,
              "#ed7953"
             ],
             [
              0.7777777777777778,
              "#fb9f3a"
             ],
             [
              0.8888888888888888,
              "#fdca26"
             ],
             [
              1,
              "#f0f921"
             ]
            ],
            "type": "heatmapgl"
           }
          ],
          "histogram": [
           {
            "marker": {
             "pattern": {
              "fillmode": "overlay",
              "size": 10,
              "solidity": 0.2
             }
            },
            "type": "histogram"
           }
          ],
          "histogram2d": [
           {
            "colorbar": {
             "outlinewidth": 0,
             "ticks": ""
            },
            "colorscale": [
             [
              0,
              "#0d0887"
             ],
             [
              0.1111111111111111,
              "#46039f"
             ],
             [
              0.2222222222222222,
              "#7201a8"
             ],
             [
              0.3333333333333333,
              "#9c179e"
             ],
             [
              0.4444444444444444,
              "#bd3786"
             ],
             [
              0.5555555555555556,
              "#d8576b"
             ],
             [
              0.6666666666666666,
              "#ed7953"
             ],
             [
              0.7777777777777778,
              "#fb9f3a"
             ],
             [
              0.8888888888888888,
              "#fdca26"
             ],
             [
              1,
              "#f0f921"
             ]
            ],
            "type": "histogram2d"
           }
          ],
          "histogram2dcontour": [
           {
            "colorbar": {
             "outlinewidth": 0,
             "ticks": ""
            },
            "colorscale": [
             [
              0,
              "#0d0887"
             ],
             [
              0.1111111111111111,
              "#46039f"
             ],
             [
              0.2222222222222222,
              "#7201a8"
             ],
             [
              0.3333333333333333,
              "#9c179e"
             ],
             [
              0.4444444444444444,
              "#bd3786"
             ],
             [
              0.5555555555555556,
              "#d8576b"
             ],
             [
              0.6666666666666666,
              "#ed7953"
             ],
             [
              0.7777777777777778,
              "#fb9f3a"
             ],
             [
              0.8888888888888888,
              "#fdca26"
             ],
             [
              1,
              "#f0f921"
             ]
            ],
            "type": "histogram2dcontour"
           }
          ],
          "mesh3d": [
           {
            "colorbar": {
             "outlinewidth": 0,
             "ticks": ""
            },
            "type": "mesh3d"
           }
          ],
          "parcoords": [
           {
            "line": {
             "colorbar": {
              "outlinewidth": 0,
              "ticks": ""
             }
            },
            "type": "parcoords"
           }
          ],
          "pie": [
           {
            "automargin": true,
            "type": "pie"
           }
          ],
          "scatter": [
           {
            "fillpattern": {
             "fillmode": "overlay",
             "size": 10,
             "solidity": 0.2
            },
            "type": "scatter"
           }
          ],
          "scatter3d": [
           {
            "line": {
             "colorbar": {
              "outlinewidth": 0,
              "ticks": ""
             }
            },
            "marker": {
             "colorbar": {
              "outlinewidth": 0,
              "ticks": ""
             }
            },
            "type": "scatter3d"
           }
          ],
          "scattercarpet": [
           {
            "marker": {
             "colorbar": {
              "outlinewidth": 0,
              "ticks": ""
             }
            },
            "type": "scattercarpet"
           }
          ],
          "scattergeo": [
           {
            "marker": {
             "colorbar": {
              "outlinewidth": 0,
              "ticks": ""
             }
            },
            "type": "scattergeo"
           }
          ],
          "scattergl": [
           {
            "marker": {
             "colorbar": {
              "outlinewidth": 0,
              "ticks": ""
             }
            },
            "type": "scattergl"
           }
          ],
          "scattermapbox": [
           {
            "marker": {
             "colorbar": {
              "outlinewidth": 0,
              "ticks": ""
             }
            },
            "type": "scattermapbox"
           }
          ],
          "scatterpolar": [
           {
            "marker": {
             "colorbar": {
              "outlinewidth": 0,
              "ticks": ""
             }
            },
            "type": "scatterpolar"
           }
          ],
          "scatterpolargl": [
           {
            "marker": {
             "colorbar": {
              "outlinewidth": 0,
              "ticks": ""
             }
            },
            "type": "scatterpolargl"
           }
          ],
          "scatterternary": [
           {
            "marker": {
             "colorbar": {
              "outlinewidth": 0,
              "ticks": ""
             }
            },
            "type": "scatterternary"
           }
          ],
          "surface": [
           {
            "colorbar": {
             "outlinewidth": 0,
             "ticks": ""
            },
            "colorscale": [
             [
              0,
              "#0d0887"
             ],
             [
              0.1111111111111111,
              "#46039f"
             ],
             [
              0.2222222222222222,
              "#7201a8"
             ],
             [
              0.3333333333333333,
              "#9c179e"
             ],
             [
              0.4444444444444444,
              "#bd3786"
             ],
             [
              0.5555555555555556,
              "#d8576b"
             ],
             [
              0.6666666666666666,
              "#ed7953"
             ],
             [
              0.7777777777777778,
              "#fb9f3a"
             ],
             [
              0.8888888888888888,
              "#fdca26"
             ],
             [
              1,
              "#f0f921"
             ]
            ],
            "type": "surface"
           }
          ],
          "table": [
           {
            "cells": {
             "fill": {
              "color": "#EBF0F8"
             },
             "line": {
              "color": "white"
             }
            },
            "header": {
             "fill": {
              "color": "#C8D4E3"
             },
             "line": {
              "color": "white"
             }
            },
            "type": "table"
           }
          ]
         },
         "layout": {
          "annotationdefaults": {
           "arrowcolor": "#2a3f5f",
           "arrowhead": 0,
           "arrowwidth": 1
          },
          "autotypenumbers": "strict",
          "coloraxis": {
           "colorbar": {
            "outlinewidth": 0,
            "ticks": ""
           }
          },
          "colorscale": {
           "diverging": [
            [
             0,
             "#8e0152"
            ],
            [
             0.1,
             "#c51b7d"
            ],
            [
             0.2,
             "#de77ae"
            ],
            [
             0.3,
             "#f1b6da"
            ],
            [
             0.4,
             "#fde0ef"
            ],
            [
             0.5,
             "#f7f7f7"
            ],
            [
             0.6,
             "#e6f5d0"
            ],
            [
             0.7,
             "#b8e186"
            ],
            [
             0.8,
             "#7fbc41"
            ],
            [
             0.9,
             "#4d9221"
            ],
            [
             1,
             "#276419"
            ]
           ],
           "sequential": [
            [
             0,
             "#0d0887"
            ],
            [
             0.1111111111111111,
             "#46039f"
            ],
            [
             0.2222222222222222,
             "#7201a8"
            ],
            [
             0.3333333333333333,
             "#9c179e"
            ],
            [
             0.4444444444444444,
             "#bd3786"
            ],
            [
             0.5555555555555556,
             "#d8576b"
            ],
            [
             0.6666666666666666,
             "#ed7953"
            ],
            [
             0.7777777777777778,
             "#fb9f3a"
            ],
            [
             0.8888888888888888,
             "#fdca26"
            ],
            [
             1,
             "#f0f921"
            ]
           ],
           "sequentialminus": [
            [
             0,
             "#0d0887"
            ],
            [
             0.1111111111111111,
             "#46039f"
            ],
            [
             0.2222222222222222,
             "#7201a8"
            ],
            [
             0.3333333333333333,
             "#9c179e"
            ],
            [
             0.4444444444444444,
             "#bd3786"
            ],
            [
             0.5555555555555556,
             "#d8576b"
            ],
            [
             0.6666666666666666,
             "#ed7953"
            ],
            [
             0.7777777777777778,
             "#fb9f3a"
            ],
            [
             0.8888888888888888,
             "#fdca26"
            ],
            [
             1,
             "#f0f921"
            ]
           ]
          },
          "colorway": [
           "#636efa",
           "#EF553B",
           "#00cc96",
           "#ab63fa",
           "#FFA15A",
           "#19d3f3",
           "#FF6692",
           "#B6E880",
           "#FF97FF",
           "#FECB52"
          ],
          "font": {
           "color": "#2a3f5f"
          },
          "geo": {
           "bgcolor": "white",
           "lakecolor": "white",
           "landcolor": "#E5ECF6",
           "showlakes": true,
           "showland": true,
           "subunitcolor": "white"
          },
          "hoverlabel": {
           "align": "left"
          },
          "hovermode": "closest",
          "mapbox": {
           "style": "light"
          },
          "paper_bgcolor": "white",
          "plot_bgcolor": "#E5ECF6",
          "polar": {
           "angularaxis": {
            "gridcolor": "white",
            "linecolor": "white",
            "ticks": ""
           },
           "bgcolor": "#E5ECF6",
           "radialaxis": {
            "gridcolor": "white",
            "linecolor": "white",
            "ticks": ""
           }
          },
          "scene": {
           "xaxis": {
            "backgroundcolor": "#E5ECF6",
            "gridcolor": "white",
            "gridwidth": 2,
            "linecolor": "white",
            "showbackground": true,
            "ticks": "",
            "zerolinecolor": "white"
           },
           "yaxis": {
            "backgroundcolor": "#E5ECF6",
            "gridcolor": "white",
            "gridwidth": 2,
            "linecolor": "white",
            "showbackground": true,
            "ticks": "",
            "zerolinecolor": "white"
           },
           "zaxis": {
            "backgroundcolor": "#E5ECF6",
            "gridcolor": "white",
            "gridwidth": 2,
            "linecolor": "white",
            "showbackground": true,
            "ticks": "",
            "zerolinecolor": "white"
           }
          },
          "shapedefaults": {
           "line": {
            "color": "#2a3f5f"
           }
          },
          "ternary": {
           "aaxis": {
            "gridcolor": "white",
            "linecolor": "white",
            "ticks": ""
           },
           "baxis": {
            "gridcolor": "white",
            "linecolor": "white",
            "ticks": ""
           },
           "bgcolor": "#E5ECF6",
           "caxis": {
            "gridcolor": "white",
            "linecolor": "white",
            "ticks": ""
           }
          },
          "title": {
           "x": 0.05
          },
          "xaxis": {
           "automargin": true,
           "gridcolor": "white",
           "linecolor": "white",
           "ticks": "",
           "title": {
            "standoff": 15
           },
           "zerolinecolor": "white",
           "zerolinewidth": 2
          },
          "yaxis": {
           "automargin": true,
           "gridcolor": "white",
           "linecolor": "white",
           "ticks": "",
           "title": {
            "standoff": 15
           },
           "zerolinecolor": "white",
           "zerolinewidth": 2
          }
         }
        },
        "xaxis": {
         "anchor": "y",
         "domain": [
          0,
          1
         ],
         "title": {
          "text": "End Use"
         }
        },
        "yaxis": {
         "anchor": "x",
         "domain": [
          0,
          1
         ],
         "title": {
          "text": "Project Count"
         }
        }
       }
      },
      "text/html": [
       "<div>                            <div id=\"ff56df62-42c7-4b24-9b2e-4bc65c0f7734\" class=\"plotly-graph-div\" style=\"height:525px; width:100%;\"></div>            <script type=\"text/javascript\">                require([\"plotly\"], function(Plotly) {                    window.PLOTLYENV=window.PLOTLYENV || {};                                    if (document.getElementById(\"ff56df62-42c7-4b24-9b2e-4bc65c0f7734\")) {                    Plotly.newPlot(                        \"ff56df62-42c7-4b24-9b2e-4bc65c0f7734\",                        [{\"alignmentgroup\":\"True\",\"hovertemplate\":\"End Use: %{x}<br>Count: %{y}\",\"legendgroup\":\"Concept\",\"marker\":{\"color\":\"#636efa\",\"pattern\":{\"shape\":\"\"}},\"name\":\"Concept\",\"offsetgroup\":\"Concept\",\"orientation\":\"v\",\"showlegend\":true,\"textposition\":\"auto\",\"x\":[\"Refining\",\"Ammonia\",\"Methanol\",\"Iron&Steel\",\"Other Ind\",\"Mobility\",\"Power\",\"Grid inj.\",\"CHP\",\"Domestic heat\",\"Biofuels\",\"Synfuels\",\"CH4 grid inj.\",\"CH4 mobility\"],\"xaxis\":\"x\",\"y\":[16.0,60.0,8.0,16.0,48.0,80.0,15.0,22.0,1.0,3.0,0.0,19.0,5.0,1.0],\"yaxis\":\"y\",\"type\":\"bar\"},{\"alignmentgroup\":\"True\",\"hovertemplate\":\"End Use: %{x}<br>Count: %{y}\",\"legendgroup\":\"DEMO\",\"marker\":{\"color\":\"#EF553B\",\"pattern\":{\"shape\":\"\"}},\"name\":\"DEMO\",\"offsetgroup\":\"DEMO\",\"orientation\":\"v\",\"showlegend\":true,\"textposition\":\"auto\",\"x\":[\"Refining\",\"Ammonia\",\"Methanol\",\"Iron&Steel\",\"Other Ind\",\"Mobility\",\"Power\",\"Grid inj.\",\"CHP\",\"Domestic heat\",\"Biofuels\",\"Synfuels\",\"CH4 grid inj.\",\"CH4 mobility\"],\"xaxis\":\"x\",\"y\":[3.0,0.0,2.0,2.0,11.0,47.0,59.0,21.0,10.0,5.0,0.0,10.0,35.0,13.0],\"yaxis\":\"y\",\"type\":\"bar\"},{\"alignmentgroup\":\"True\",\"hovertemplate\":\"End Use: %{x}<br>Count: %{y}\",\"legendgroup\":\"Decommisioned\",\"marker\":{\"color\":\"#00cc96\",\"pattern\":{\"shape\":\"\"}},\"name\":\"Decommisioned\",\"offsetgroup\":\"Decommisioned\",\"orientation\":\"v\",\"showlegend\":true,\"textposition\":\"auto\",\"x\":[\"Refining\",\"Ammonia\",\"Methanol\",\"Iron&Steel\",\"Other Ind\",\"Mobility\",\"Power\",\"Grid inj.\",\"CHP\",\"Domestic heat\",\"Biofuels\",\"Synfuels\",\"CH4 grid inj.\",\"CH4 mobility\"],\"xaxis\":\"x\",\"y\":[0.0,2.0,0.0,0.0,0.0,0.0,0.0,0.0,0.0,0.0,0.0,0.0,0.0,0.0],\"yaxis\":\"y\",\"type\":\"bar\"},{\"alignmentgroup\":\"True\",\"hovertemplate\":\"End Use: %{x}<br>Count: %{y}\",\"legendgroup\":\"FID\",\"marker\":{\"color\":\"#ab63fa\",\"pattern\":{\"shape\":\"\"}},\"name\":\"FID\",\"offsetgroup\":\"FID\",\"orientation\":\"v\",\"showlegend\":true,\"textposition\":\"auto\",\"x\":[\"Refining\",\"Ammonia\",\"Methanol\",\"Iron&Steel\",\"Other Ind\",\"Mobility\",\"Power\",\"Grid inj.\",\"CHP\",\"Domestic heat\",\"Biofuels\",\"Synfuels\",\"CH4 grid inj.\",\"CH4 mobility\"],\"xaxis\":\"x\",\"y\":[10.0,9.0,4.0,5.0,8.0,55.0,12.0,16.0,1.0,4.0,3.0,3.0,2.0,0.0],\"yaxis\":\"y\",\"type\":\"bar\"},{\"alignmentgroup\":\"True\",\"hovertemplate\":\"End Use: %{x}<br>Count: %{y}\",\"legendgroup\":\"Feasibility study\",\"marker\":{\"color\":\"#FFA15A\",\"pattern\":{\"shape\":\"\"}},\"name\":\"Feasibility study\",\"offsetgroup\":\"Feasibility study\",\"orientation\":\"v\",\"showlegend\":true,\"textposition\":\"auto\",\"x\":[\"Refining\",\"Ammonia\",\"Methanol\",\"Iron&Steel\",\"Other Ind\",\"Mobility\",\"Power\",\"Grid inj.\",\"CHP\",\"Domestic heat\",\"Biofuels\",\"Synfuels\",\"CH4 grid inj.\",\"CH4 mobility\"],\"xaxis\":\"x\",\"y\":[57.0,90.0,32.0,37.0,88.0,128.0,42.0,49.0,3.0,7.0,6.0,27.0,4.0,1.0],\"yaxis\":\"y\",\"type\":\"bar\"},{\"alignmentgroup\":\"True\",\"hovertemplate\":\"End Use: %{x}<br>Count: %{y}\",\"legendgroup\":\"Operational\",\"marker\":{\"color\":\"#19d3f3\",\"pattern\":{\"shape\":\"\"}},\"name\":\"Operational\",\"offsetgroup\":\"Operational\",\"orientation\":\"v\",\"showlegend\":true,\"textposition\":\"auto\",\"x\":[\"Refining\",\"Ammonia\",\"Methanol\",\"Iron&Steel\",\"Other Ind\",\"Mobility\",\"Power\",\"Grid inj.\",\"CHP\",\"Domestic heat\",\"Biofuels\",\"Synfuels\",\"CH4 grid inj.\",\"CH4 mobility\"],\"xaxis\":\"x\",\"y\":[10.0,9.0,10.0,5.0,11.0,101.0,63.0,28.0,12.0,3.0,0.0,1.0,17.0,1.0],\"yaxis\":\"y\",\"type\":\"bar\"},{\"alignmentgroup\":\"True\",\"hovertemplate\":\"End Use: %{x}<br>Count: %{y}\",\"legendgroup\":\"Other/Unknown\",\"marker\":{\"color\":\"#FF6692\",\"pattern\":{\"shape\":\"\"}},\"name\":\"Other/Unknown\",\"offsetgroup\":\"Other/Unknown\",\"orientation\":\"v\",\"showlegend\":true,\"textposition\":\"auto\",\"x\":[\"Refining\",\"Ammonia\",\"Methanol\",\"Iron&Steel\",\"Other Ind\",\"Mobility\",\"Power\",\"Grid inj.\",\"CHP\",\"Domestic heat\",\"Biofuels\",\"Synfuels\",\"CH4 grid inj.\",\"CH4 mobility\"],\"xaxis\":\"x\",\"y\":[0.0,0.0,0.0,0.0,0.0,2.0,0.0,0.0,0.0,0.0,0.0,0.0,1.0,0.0],\"yaxis\":\"y\",\"type\":\"bar\"},{\"alignmentgroup\":\"True\",\"hovertemplate\":\"End Use: %{x}<br>Count: %{y}\",\"legendgroup\":\"Under construction\",\"marker\":{\"color\":\"#B6E880\",\"pattern\":{\"shape\":\"\"}},\"name\":\"Under construction\",\"offsetgroup\":\"Under construction\",\"orientation\":\"v\",\"showlegend\":true,\"textposition\":\"auto\",\"x\":[\"Refining\",\"Ammonia\",\"Methanol\",\"Iron&Steel\",\"Other Ind\",\"Mobility\",\"Power\",\"Grid inj.\",\"CHP\",\"Domestic heat\",\"Biofuels\",\"Synfuels\",\"CH4 grid inj.\",\"CH4 mobility\"],\"xaxis\":\"x\",\"y\":[5.0,3.0,2.0,2.0,3.0,29.0,5.0,7.0,0.0,0.0,1.0,9.0,1.0,0.0],\"yaxis\":\"y\",\"type\":\"bar\"}],                        {\"template\":{\"data\":{\"histogram2dcontour\":[{\"type\":\"histogram2dcontour\",\"colorbar\":{\"outlinewidth\":0,\"ticks\":\"\"},\"colorscale\":[[0.0,\"#0d0887\"],[0.1111111111111111,\"#46039f\"],[0.2222222222222222,\"#7201a8\"],[0.3333333333333333,\"#9c179e\"],[0.4444444444444444,\"#bd3786\"],[0.5555555555555556,\"#d8576b\"],[0.6666666666666666,\"#ed7953\"],[0.7777777777777778,\"#fb9f3a\"],[0.8888888888888888,\"#fdca26\"],[1.0,\"#f0f921\"]]}],\"choropleth\":[{\"type\":\"choropleth\",\"colorbar\":{\"outlinewidth\":0,\"ticks\":\"\"}}],\"histogram2d\":[{\"type\":\"histogram2d\",\"colorbar\":{\"outlinewidth\":0,\"ticks\":\"\"},\"colorscale\":[[0.0,\"#0d0887\"],[0.1111111111111111,\"#46039f\"],[0.2222222222222222,\"#7201a8\"],[0.3333333333333333,\"#9c179e\"],[0.4444444444444444,\"#bd3786\"],[0.5555555555555556,\"#d8576b\"],[0.6666666666666666,\"#ed7953\"],[0.7777777777777778,\"#fb9f3a\"],[0.8888888888888888,\"#fdca26\"],[1.0,\"#f0f921\"]]}],\"heatmap\":[{\"type\":\"heatmap\",\"colorbar\":{\"outlinewidth\":0,\"ticks\":\"\"},\"colorscale\":[[0.0,\"#0d0887\"],[0.1111111111111111,\"#46039f\"],[0.2222222222222222,\"#7201a8\"],[0.3333333333333333,\"#9c179e\"],[0.4444444444444444,\"#bd3786\"],[0.5555555555555556,\"#d8576b\"],[0.6666666666666666,\"#ed7953\"],[0.7777777777777778,\"#fb9f3a\"],[0.8888888888888888,\"#fdca26\"],[1.0,\"#f0f921\"]]}],\"heatmapgl\":[{\"type\":\"heatmapgl\",\"colorbar\":{\"outlinewidth\":0,\"ticks\":\"\"},\"colorscale\":[[0.0,\"#0d0887\"],[0.1111111111111111,\"#46039f\"],[0.2222222222222222,\"#7201a8\"],[0.3333333333333333,\"#9c179e\"],[0.4444444444444444,\"#bd3786\"],[0.5555555555555556,\"#d8576b\"],[0.6666666666666666,\"#ed7953\"],[0.7777777777777778,\"#fb9f3a\"],[0.8888888888888888,\"#fdca26\"],[1.0,\"#f0f921\"]]}],\"contourcarpet\":[{\"type\":\"contourcarpet\",\"colorbar\":{\"outlinewidth\":0,\"ticks\":\"\"}}],\"contour\":[{\"type\":\"contour\",\"colorbar\":{\"outlinewidth\":0,\"ticks\":\"\"},\"colorscale\":[[0.0,\"#0d0887\"],[0.1111111111111111,\"#46039f\"],[0.2222222222222222,\"#7201a8\"],[0.3333333333333333,\"#9c179e\"],[0.4444444444444444,\"#bd3786\"],[0.5555555555555556,\"#d8576b\"],[0.6666666666666666,\"#ed7953\"],[0.7777777777777778,\"#fb9f3a\"],[0.8888888888888888,\"#fdca26\"],[1.0,\"#f0f921\"]]}],\"surface\":[{\"type\":\"surface\",\"colorbar\":{\"outlinewidth\":0,\"ticks\":\"\"},\"colorscale\":[[0.0,\"#0d0887\"],[0.1111111111111111,\"#46039f\"],[0.2222222222222222,\"#7201a8\"],[0.3333333333333333,\"#9c179e\"],[0.4444444444444444,\"#bd3786\"],[0.5555555555555556,\"#d8576b\"],[0.6666666666666666,\"#ed7953\"],[0.7777777777777778,\"#fb9f3a\"],[0.8888888888888888,\"#fdca26\"],[1.0,\"#f0f921\"]]}],\"mesh3d\":[{\"type\":\"mesh3d\",\"colorbar\":{\"outlinewidth\":0,\"ticks\":\"\"}}],\"scatter\":[{\"fillpattern\":{\"fillmode\":\"overlay\",\"size\":10,\"solidity\":0.2},\"type\":\"scatter\"}],\"parcoords\":[{\"type\":\"parcoords\",\"line\":{\"colorbar\":{\"outlinewidth\":0,\"ticks\":\"\"}}}],\"scatterpolargl\":[{\"type\":\"scatterpolargl\",\"marker\":{\"colorbar\":{\"outlinewidth\":0,\"ticks\":\"\"}}}],\"bar\":[{\"error_x\":{\"color\":\"#2a3f5f\"},\"error_y\":{\"color\":\"#2a3f5f\"},\"marker\":{\"line\":{\"color\":\"#E5ECF6\",\"width\":0.5},\"pattern\":{\"fillmode\":\"overlay\",\"size\":10,\"solidity\":0.2}},\"type\":\"bar\"}],\"scattergeo\":[{\"type\":\"scattergeo\",\"marker\":{\"colorbar\":{\"outlinewidth\":0,\"ticks\":\"\"}}}],\"scatterpolar\":[{\"type\":\"scatterpolar\",\"marker\":{\"colorbar\":{\"outlinewidth\":0,\"ticks\":\"\"}}}],\"histogram\":[{\"marker\":{\"pattern\":{\"fillmode\":\"overlay\",\"size\":10,\"solidity\":0.2}},\"type\":\"histogram\"}],\"scattergl\":[{\"type\":\"scattergl\",\"marker\":{\"colorbar\":{\"outlinewidth\":0,\"ticks\":\"\"}}}],\"scatter3d\":[{\"type\":\"scatter3d\",\"line\":{\"colorbar\":{\"outlinewidth\":0,\"ticks\":\"\"}},\"marker\":{\"colorbar\":{\"outlinewidth\":0,\"ticks\":\"\"}}}],\"scattermapbox\":[{\"type\":\"scattermapbox\",\"marker\":{\"colorbar\":{\"outlinewidth\":0,\"ticks\":\"\"}}}],\"scatterternary\":[{\"type\":\"scatterternary\",\"marker\":{\"colorbar\":{\"outlinewidth\":0,\"ticks\":\"\"}}}],\"scattercarpet\":[{\"type\":\"scattercarpet\",\"marker\":{\"colorbar\":{\"outlinewidth\":0,\"ticks\":\"\"}}}],\"carpet\":[{\"aaxis\":{\"endlinecolor\":\"#2a3f5f\",\"gridcolor\":\"white\",\"linecolor\":\"white\",\"minorgridcolor\":\"white\",\"startlinecolor\":\"#2a3f5f\"},\"baxis\":{\"endlinecolor\":\"#2a3f5f\",\"gridcolor\":\"white\",\"linecolor\":\"white\",\"minorgridcolor\":\"white\",\"startlinecolor\":\"#2a3f5f\"},\"type\":\"carpet\"}],\"table\":[{\"cells\":{\"fill\":{\"color\":\"#EBF0F8\"},\"line\":{\"color\":\"white\"}},\"header\":{\"fill\":{\"color\":\"#C8D4E3\"},\"line\":{\"color\":\"white\"}},\"type\":\"table\"}],\"barpolar\":[{\"marker\":{\"line\":{\"color\":\"#E5ECF6\",\"width\":0.5},\"pattern\":{\"fillmode\":\"overlay\",\"size\":10,\"solidity\":0.2}},\"type\":\"barpolar\"}],\"pie\":[{\"automargin\":true,\"type\":\"pie\"}]},\"layout\":{\"autotypenumbers\":\"strict\",\"colorway\":[\"#636efa\",\"#EF553B\",\"#00cc96\",\"#ab63fa\",\"#FFA15A\",\"#19d3f3\",\"#FF6692\",\"#B6E880\",\"#FF97FF\",\"#FECB52\"],\"font\":{\"color\":\"#2a3f5f\"},\"hovermode\":\"closest\",\"hoverlabel\":{\"align\":\"left\"},\"paper_bgcolor\":\"white\",\"plot_bgcolor\":\"#E5ECF6\",\"polar\":{\"bgcolor\":\"#E5ECF6\",\"angularaxis\":{\"gridcolor\":\"white\",\"linecolor\":\"white\",\"ticks\":\"\"},\"radialaxis\":{\"gridcolor\":\"white\",\"linecolor\":\"white\",\"ticks\":\"\"}},\"ternary\":{\"bgcolor\":\"#E5ECF6\",\"aaxis\":{\"gridcolor\":\"white\",\"linecolor\":\"white\",\"ticks\":\"\"},\"baxis\":{\"gridcolor\":\"white\",\"linecolor\":\"white\",\"ticks\":\"\"},\"caxis\":{\"gridcolor\":\"white\",\"linecolor\":\"white\",\"ticks\":\"\"}},\"coloraxis\":{\"colorbar\":{\"outlinewidth\":0,\"ticks\":\"\"}},\"colorscale\":{\"sequential\":[[0.0,\"#0d0887\"],[0.1111111111111111,\"#46039f\"],[0.2222222222222222,\"#7201a8\"],[0.3333333333333333,\"#9c179e\"],[0.4444444444444444,\"#bd3786\"],[0.5555555555555556,\"#d8576b\"],[0.6666666666666666,\"#ed7953\"],[0.7777777777777778,\"#fb9f3a\"],[0.8888888888888888,\"#fdca26\"],[1.0,\"#f0f921\"]],\"sequentialminus\":[[0.0,\"#0d0887\"],[0.1111111111111111,\"#46039f\"],[0.2222222222222222,\"#7201a8\"],[0.3333333333333333,\"#9c179e\"],[0.4444444444444444,\"#bd3786\"],[0.5555555555555556,\"#d8576b\"],[0.6666666666666666,\"#ed7953\"],[0.7777777777777778,\"#fb9f3a\"],[0.8888888888888888,\"#fdca26\"],[1.0,\"#f0f921\"]],\"diverging\":[[0,\"#8e0152\"],[0.1,\"#c51b7d\"],[0.2,\"#de77ae\"],[0.3,\"#f1b6da\"],[0.4,\"#fde0ef\"],[0.5,\"#f7f7f7\"],[0.6,\"#e6f5d0\"],[0.7,\"#b8e186\"],[0.8,\"#7fbc41\"],[0.9,\"#4d9221\"],[1,\"#276419\"]]},\"xaxis\":{\"gridcolor\":\"white\",\"linecolor\":\"white\",\"ticks\":\"\",\"title\":{\"standoff\":15},\"zerolinecolor\":\"white\",\"automargin\":true,\"zerolinewidth\":2},\"yaxis\":{\"gridcolor\":\"white\",\"linecolor\":\"white\",\"ticks\":\"\",\"title\":{\"standoff\":15},\"zerolinecolor\":\"white\",\"automargin\":true,\"zerolinewidth\":2},\"scene\":{\"xaxis\":{\"backgroundcolor\":\"#E5ECF6\",\"gridcolor\":\"white\",\"linecolor\":\"white\",\"showbackground\":true,\"ticks\":\"\",\"zerolinecolor\":\"white\",\"gridwidth\":2},\"yaxis\":{\"backgroundcolor\":\"#E5ECF6\",\"gridcolor\":\"white\",\"linecolor\":\"white\",\"showbackground\":true,\"ticks\":\"\",\"zerolinecolor\":\"white\",\"gridwidth\":2},\"zaxis\":{\"backgroundcolor\":\"#E5ECF6\",\"gridcolor\":\"white\",\"linecolor\":\"white\",\"showbackground\":true,\"ticks\":\"\",\"zerolinecolor\":\"white\",\"gridwidth\":2}},\"shapedefaults\":{\"line\":{\"color\":\"#2a3f5f\"}},\"annotationdefaults\":{\"arrowcolor\":\"#2a3f5f\",\"arrowhead\":0,\"arrowwidth\":1},\"geo\":{\"bgcolor\":\"white\",\"landcolor\":\"#E5ECF6\",\"subunitcolor\":\"white\",\"showland\":true,\"showlakes\":true,\"lakecolor\":\"white\"},\"title\":{\"x\":0.05},\"mapbox\":{\"style\":\"light\"}}},\"xaxis\":{\"anchor\":\"y\",\"domain\":[0.0,1.0],\"title\":{\"text\":\"End Use\"}},\"yaxis\":{\"anchor\":\"x\",\"domain\":[0.0,1.0],\"title\":{\"text\":\"Project Count\"}},\"legend\":{\"title\":{\"text\":\"Status\"},\"tracegroupgap\":0},\"margin\":{\"t\":60},\"barmode\":\"relative\"},                        {\"responsive\": true}                    ).then(function(){\n",
       "                            \n",
       "var gd = document.getElementById('ff56df62-42c7-4b24-9b2e-4bc65c0f7734');\n",
       "var x = new MutationObserver(function (mutations, observer) {{\n",
       "        var display = window.getComputedStyle(gd).display;\n",
       "        if (!display || display === 'none') {{\n",
       "            console.log([gd, 'removed!']);\n",
       "            Plotly.purge(gd);\n",
       "            observer.disconnect();\n",
       "        }}\n",
       "}});\n",
       "\n",
       "// Listen for the removal of the full notebook cells\n",
       "var notebookContainer = gd.closest('#notebook-container');\n",
       "if (notebookContainer) {{\n",
       "    x.observe(notebookContainer, {childList: true});\n",
       "}}\n",
       "\n",
       "// Listen for the clearing of the current output cell\n",
       "var outputEl = gd.closest('.output');\n",
       "if (outputEl) {{\n",
       "    x.observe(outputEl, {childList: true});\n",
       "}}\n",
       "\n",
       "                        })                };                });            </script>        </div>"
      ]
     },
     "metadata": {},
     "output_type": "display_data"
    }
   ],
   "source": [
    "hovertemplate_enduse = 'End Use: %{x}'+'<br>Count: %{y}'\n",
    "\n",
    "fig = px.bar(status_by_endUse, labels= {'index':'End Use', 'value':'Project Count','Column6':column_dictionary['Column6']})\n",
    "fig.write_html(\"./app/templates/static/html/test.html\")\n",
    "fig.update_traces(hovertemplate=hovertemplate_enduse)\n",
    "fig.update_xaxes()\n",
    "fig.show()"
   ]
  },
  {
   "cell_type": "raw",
   "id": "96fbd3c5",
   "metadata": {},
   "source": [
    "## EXAMPLE: Adding additional data in the hover template\n",
    "fig = px.scatter(\n",
    "    data_frame=df, \n",
    "    x='ColX', \n",
    "    y='ColY', \n",
    "    custom_data=['Col1', 'Col2', 'Col3']\n",
    ")\n",
    "\n",
    "fig.update_traces(\n",
    "    hovertemplate=\"<br>\".join([\n",
    "        \"ColX: %{x}\",\n",
    "        \"ColY: %{y}\",\n",
    "        \"Col1: %{customdata[0]}\",\n",
    "        \"Col2: %{customdata[1]}\",\n",
    "        \"Col3: %{customdata[2]}\",\n",
    "    ])\n",
    ")"
   ]
  },
  {
   "cell_type": "code",
   "execution_count": 120,
   "id": "f3abe7dc",
   "metadata": {},
   "outputs": [
    {
     "data": {
      "text/html": [
       "<div>\n",
       "<style scoped>\n",
       "    .dataframe tbody tr th:only-of-type {\n",
       "        vertical-align: middle;\n",
       "    }\n",
       "\n",
       "    .dataframe tbody tr th {\n",
       "        vertical-align: top;\n",
       "    }\n",
       "\n",
       "    .dataframe thead th {\n",
       "        text-align: right;\n",
       "    }\n",
       "</style>\n",
       "<table border=\"1\" class=\"dataframe\">\n",
       "  <thead>\n",
       "    <tr style=\"text-align: right;\">\n",
       "      <th></th>\n",
       "      <th>Column1</th>\n",
       "      <th>Column2</th>\n",
       "      <th>Column3</th>\n",
       "      <th>Column4</th>\n",
       "      <th>Column5</th>\n",
       "      <th>Column6</th>\n",
       "      <th>Column7</th>\n",
       "      <th>Column8</th>\n",
       "      <th>Column9</th>\n",
       "      <th>Column10</th>\n",
       "      <th>...</th>\n",
       "      <th>Column23</th>\n",
       "      <th>Column24</th>\n",
       "      <th>Column25</th>\n",
       "      <th>Column26</th>\n",
       "      <th>Column27</th>\n",
       "      <th>Column28</th>\n",
       "      <th>Column29</th>\n",
       "      <th>Column30</th>\n",
       "      <th>Column31</th>\n",
       "      <th>Column32</th>\n",
       "    </tr>\n",
       "  </thead>\n",
       "  <tbody>\n",
       "    <tr>\n",
       "      <th>0</th>\n",
       "      <td>0</td>\n",
       "      <td>Other projects from confidential sources (post...</td>\n",
       "      <td>NaN</td>\n",
       "      <td>9999</td>\n",
       "      <td>9999</td>\n",
       "      <td>Other/Unknown</td>\n",
       "      <td>NG w CCUS</td>\n",
       "      <td>NaN</td>\n",
       "      <td>NaN</td>\n",
       "      <td>NaN</td>\n",
       "      <td>...</td>\n",
       "      <td>False</td>\n",
       "      <td>False</td>\n",
       "      <td>False</td>\n",
       "      <td>3000kt H2/y</td>\n",
       "      <td>NaN</td>\n",
       "      <td>3.847930e+06</td>\n",
       "      <td>3000.000000</td>\n",
       "      <td>NaN</td>\n",
       "      <td>0.000000e+00</td>\n",
       "      <td>NaN</td>\n",
       "    </tr>\n",
       "    <tr>\n",
       "      <th>1</th>\n",
       "      <td>0</td>\n",
       "      <td>Other projects from confidential sources (post...</td>\n",
       "      <td>NaN</td>\n",
       "      <td>9999</td>\n",
       "      <td>9999</td>\n",
       "      <td>Other/Unknown</td>\n",
       "      <td>Other</td>\n",
       "      <td>Various types</td>\n",
       "      <td>NaN</td>\n",
       "      <td>NaN</td>\n",
       "      <td>...</td>\n",
       "      <td>False</td>\n",
       "      <td>False</td>\n",
       "      <td>False</td>\n",
       "      <td>165kt H2/y</td>\n",
       "      <td>NaN</td>\n",
       "      <td>2.116361e+05</td>\n",
       "      <td>165.000000</td>\n",
       "      <td>NaN</td>\n",
       "      <td>0.000000e+00</td>\n",
       "      <td>NaN</td>\n",
       "    </tr>\n",
       "    <tr>\n",
       "      <th>2</th>\n",
       "      <td>0</td>\n",
       "      <td>Other projects from confidential sources (post...</td>\n",
       "      <td>NaN</td>\n",
       "      <td>9999</td>\n",
       "      <td>9999</td>\n",
       "      <td>Other/Unknown</td>\n",
       "      <td>Other Electrolysis</td>\n",
       "      <td>Various types</td>\n",
       "      <td>NaN</td>\n",
       "      <td>NaN</td>\n",
       "      <td>...</td>\n",
       "      <td>False</td>\n",
       "      <td>False</td>\n",
       "      <td>False</td>\n",
       "      <td>14.3GW</td>\n",
       "      <td>14300.000000</td>\n",
       "      <td>3.177778e+06</td>\n",
       "      <td>2477.522667</td>\n",
       "      <td>NaN</td>\n",
       "      <td>3.177778e+06</td>\n",
       "      <td>NaN</td>\n",
       "    </tr>\n",
       "    <tr>\n",
       "      <th>3</th>\n",
       "      <td>0</td>\n",
       "      <td>Other projects from confidential sources (2000...</td>\n",
       "      <td>NaN</td>\n",
       "      <td>9999</td>\n",
       "      <td>9999</td>\n",
       "      <td>Operational</td>\n",
       "      <td>PEM</td>\n",
       "      <td>NaN</td>\n",
       "      <td>NaN</td>\n",
       "      <td>NaN</td>\n",
       "      <td>...</td>\n",
       "      <td>False</td>\n",
       "      <td>False</td>\n",
       "      <td>False</td>\n",
       "      <td>77MW</td>\n",
       "      <td>77.000000</td>\n",
       "      <td>1.480769e+04</td>\n",
       "      <td>11.544669</td>\n",
       "      <td>NaN</td>\n",
       "      <td>1.480769e+04</td>\n",
       "      <td>NaN</td>\n",
       "    </tr>\n",
       "    <tr>\n",
       "      <th>4</th>\n",
       "      <td>0</td>\n",
       "      <td>Other projects from confidential sources (2000...</td>\n",
       "      <td>NaN</td>\n",
       "      <td>9999</td>\n",
       "      <td>9999</td>\n",
       "      <td>Operational</td>\n",
       "      <td>ALK</td>\n",
       "      <td>NaN</td>\n",
       "      <td>NaN</td>\n",
       "      <td>NaN</td>\n",
       "      <td>...</td>\n",
       "      <td>False</td>\n",
       "      <td>False</td>\n",
       "      <td>False</td>\n",
       "      <td>20MW</td>\n",
       "      <td>20.000000</td>\n",
       "      <td>4.347826e+03</td>\n",
       "      <td>3.389739</td>\n",
       "      <td>NaN</td>\n",
       "      <td>4.347826e+03</td>\n",
       "      <td>NaN</td>\n",
       "    </tr>\n",
       "    <tr>\n",
       "      <th>...</th>\n",
       "      <td>...</td>\n",
       "      <td>...</td>\n",
       "      <td>...</td>\n",
       "      <td>...</td>\n",
       "      <td>...</td>\n",
       "      <td>...</td>\n",
       "      <td>...</td>\n",
       "      <td>...</td>\n",
       "      <td>...</td>\n",
       "      <td>...</td>\n",
       "      <td>...</td>\n",
       "      <td>...</td>\n",
       "      <td>...</td>\n",
       "      <td>...</td>\n",
       "      <td>...</td>\n",
       "      <td>...</td>\n",
       "      <td>...</td>\n",
       "      <td>...</td>\n",
       "      <td>...</td>\n",
       "      <td>...</td>\n",
       "      <td>...</td>\n",
       "    </tr>\n",
       "    <tr>\n",
       "      <th>1472</th>\n",
       "      <td>1929</td>\n",
       "      <td>Sohar Port, phase 2</td>\n",
       "      <td>OMN</td>\n",
       "      <td>9999</td>\n",
       "      <td>9999</td>\n",
       "      <td>Concept</td>\n",
       "      <td>Other Electrolysis</td>\n",
       "      <td>Unknown PtX</td>\n",
       "      <td>Dedicated renewable</td>\n",
       "      <td>Unknown</td>\n",
       "      <td>...</td>\n",
       "      <td>False</td>\n",
       "      <td>False</td>\n",
       "      <td>False</td>\n",
       "      <td>350MW</td>\n",
       "      <td>315.000000</td>\n",
       "      <td>7.000000e+04</td>\n",
       "      <td>54.574800</td>\n",
       "      <td>NaN</td>\n",
       "      <td>7.000000e+04</td>\n",
       "      <td>[1548]</td>\n",
       "    </tr>\n",
       "    <tr>\n",
       "      <th>1473</th>\n",
       "      <td>1930</td>\n",
       "      <td>MoU Acme-Govt of Karnataka, phase 1</td>\n",
       "      <td>IND</td>\n",
       "      <td>2027</td>\n",
       "      <td>9999</td>\n",
       "      <td>Concept</td>\n",
       "      <td>Other Electrolysis</td>\n",
       "      <td>Unknown PtX</td>\n",
       "      <td>Dedicated renewable</td>\n",
       "      <td>Solar PV</td>\n",
       "      <td>...</td>\n",
       "      <td>False</td>\n",
       "      <td>False</td>\n",
       "      <td>False</td>\n",
       "      <td>0.1 Mt NH3/y</td>\n",
       "      <td>103.935679</td>\n",
       "      <td>2.309682e+04</td>\n",
       "      <td>18.007203</td>\n",
       "      <td>NaN</td>\n",
       "      <td>2.309682e+04</td>\n",
       "      <td>[1549]</td>\n",
       "    </tr>\n",
       "    <tr>\n",
       "      <th>1474</th>\n",
       "      <td>1931</td>\n",
       "      <td>Energy Hub at MIRA Technology Park.</td>\n",
       "      <td>GBR</td>\n",
       "      <td>2022</td>\n",
       "      <td>9999</td>\n",
       "      <td>FID</td>\n",
       "      <td>Other Electrolysis</td>\n",
       "      <td>Membrane-free electrolyser</td>\n",
       "      <td>Other/Unknown</td>\n",
       "      <td>NaN</td>\n",
       "      <td>...</td>\n",
       "      <td>False</td>\n",
       "      <td>False</td>\n",
       "      <td>False</td>\n",
       "      <td>1.1MW</td>\n",
       "      <td>1.100000</td>\n",
       "      <td>2.444444e+02</td>\n",
       "      <td>0.190579</td>\n",
       "      <td>NaN</td>\n",
       "      <td>2.444444e+02</td>\n",
       "      <td>[1550]</td>\n",
       "    </tr>\n",
       "    <tr>\n",
       "      <th>1475</th>\n",
       "      <td>1932</td>\n",
       "      <td>CF Industries - Mitsui Gulf Coast plant</td>\n",
       "      <td>USA</td>\n",
       "      <td>2027</td>\n",
       "      <td>9999</td>\n",
       "      <td>Feasibility study</td>\n",
       "      <td>NG w CCUS</td>\n",
       "      <td>Unknown Technology</td>\n",
       "      <td>NaN</td>\n",
       "      <td>NaN</td>\n",
       "      <td>...</td>\n",
       "      <td>False</td>\n",
       "      <td>False</td>\n",
       "      <td>False</td>\n",
       "      <td>1-1.4 Mt NH3/y</td>\n",
       "      <td>NaN</td>\n",
       "      <td>3.233554e+05</td>\n",
       "      <td>252.100840</td>\n",
       "      <td>NaN</td>\n",
       "      <td>0.000000e+00</td>\n",
       "      <td>[1551] [1552]</td>\n",
       "    </tr>\n",
       "    <tr>\n",
       "      <th>1476</th>\n",
       "      <td>1933</td>\n",
       "      <td>MoU Acme-Govt of Karnataka, phase 2</td>\n",
       "      <td>IND</td>\n",
       "      <td>9999</td>\n",
       "      <td>9999</td>\n",
       "      <td>Concept</td>\n",
       "      <td>Other Electrolysis</td>\n",
       "      <td>Unknown PtX</td>\n",
       "      <td>Dedicated renewable</td>\n",
       "      <td>Solar PV</td>\n",
       "      <td>...</td>\n",
       "      <td>False</td>\n",
       "      <td>False</td>\n",
       "      <td>False</td>\n",
       "      <td>1.2 Mt NH3/y</td>\n",
       "      <td>1143.292472</td>\n",
       "      <td>2.540650e+05</td>\n",
       "      <td>198.079232</td>\n",
       "      <td>NaN</td>\n",
       "      <td>2.540650e+05</td>\n",
       "      <td>[1549]</td>\n",
       "    </tr>\n",
       "  </tbody>\n",
       "</table>\n",
       "<p>1477 rows × 32 columns</p>\n",
       "</div>"
      ],
      "text/plain": [
       "      Column1                                            Column2 Column3  \\\n",
       "0           0  Other projects from confidential sources (post...     NaN   \n",
       "1           0  Other projects from confidential sources (post...     NaN   \n",
       "2           0  Other projects from confidential sources (post...     NaN   \n",
       "3           0  Other projects from confidential sources (2000...     NaN   \n",
       "4           0  Other projects from confidential sources (2000...     NaN   \n",
       "...       ...                                                ...     ...   \n",
       "1472     1929                                Sohar Port, phase 2     OMN   \n",
       "1473     1930                MoU Acme-Govt of Karnataka, phase 1     IND   \n",
       "1474     1931                Energy Hub at MIRA Technology Park.     GBR   \n",
       "1475     1932            CF Industries - Mitsui Gulf Coast plant     USA   \n",
       "1476     1933                MoU Acme-Govt of Karnataka, phase 2     IND   \n",
       "\n",
       "      Column4  Column5            Column6             Column7  \\\n",
       "0        9999     9999      Other/Unknown           NG w CCUS   \n",
       "1        9999     9999      Other/Unknown               Other   \n",
       "2        9999     9999      Other/Unknown  Other Electrolysis   \n",
       "3        9999     9999        Operational                 PEM   \n",
       "4        9999     9999        Operational                 ALK   \n",
       "...       ...      ...                ...                 ...   \n",
       "1472     9999     9999            Concept  Other Electrolysis   \n",
       "1473     2027     9999            Concept  Other Electrolysis   \n",
       "1474     2022     9999                FID  Other Electrolysis   \n",
       "1475     2027     9999  Feasibility study           NG w CCUS   \n",
       "1476     9999     9999            Concept  Other Electrolysis   \n",
       "\n",
       "                         Column8              Column9  Column10  ... Column23  \\\n",
       "0                            NaN                  NaN       NaN  ...    False   \n",
       "1                  Various types                  NaN       NaN  ...    False   \n",
       "2                  Various types                  NaN       NaN  ...    False   \n",
       "3                            NaN                  NaN       NaN  ...    False   \n",
       "4                            NaN                  NaN       NaN  ...    False   \n",
       "...                          ...                  ...       ...  ...      ...   \n",
       "1472                 Unknown PtX  Dedicated renewable   Unknown  ...    False   \n",
       "1473                 Unknown PtX  Dedicated renewable  Solar PV  ...    False   \n",
       "1474  Membrane-free electrolyser        Other/Unknown       NaN  ...    False   \n",
       "1475          Unknown Technology                  NaN       NaN  ...    False   \n",
       "1476                 Unknown PtX  Dedicated renewable  Solar PV  ...    False   \n",
       "\n",
       "      Column24  Column25        Column26      Column27      Column28  \\\n",
       "0        False     False     3000kt H2/y           NaN  3.847930e+06   \n",
       "1        False     False      165kt H2/y           NaN  2.116361e+05   \n",
       "2        False     False          14.3GW  14300.000000  3.177778e+06   \n",
       "3        False     False            77MW     77.000000  1.480769e+04   \n",
       "4        False     False            20MW     20.000000  4.347826e+03   \n",
       "...        ...       ...             ...           ...           ...   \n",
       "1472     False     False           350MW    315.000000  7.000000e+04   \n",
       "1473     False     False    0.1 Mt NH3/y    103.935679  2.309682e+04   \n",
       "1474     False     False           1.1MW      1.100000  2.444444e+02   \n",
       "1475     False     False  1-1.4 Mt NH3/y           NaN  3.233554e+05   \n",
       "1476     False     False    1.2 Mt NH3/y   1143.292472  2.540650e+05   \n",
       "\n",
       "         Column29  Column30      Column31       Column32  \n",
       "0     3000.000000       NaN  0.000000e+00            NaN  \n",
       "1      165.000000       NaN  0.000000e+00            NaN  \n",
       "2     2477.522667       NaN  3.177778e+06            NaN  \n",
       "3       11.544669       NaN  1.480769e+04            NaN  \n",
       "4        3.389739       NaN  4.347826e+03            NaN  \n",
       "...           ...       ...           ...            ...  \n",
       "1472    54.574800       NaN  7.000000e+04         [1548]  \n",
       "1473    18.007203       NaN  2.309682e+04         [1549]  \n",
       "1474     0.190579       NaN  2.444444e+02         [1550]  \n",
       "1475   252.100840       NaN  0.000000e+00  [1551] [1552]  \n",
       "1476   198.079232       NaN  2.540650e+05         [1549]  \n",
       "\n",
       "[1477 rows x 32 columns]"
      ]
     },
     "execution_count": 120,
     "metadata": {},
     "output_type": "execute_result"
    }
   ],
   "source": [
    "raw_data"
   ]
  },
  {
   "cell_type": "code",
   "execution_count": 126,
   "id": "56bf8f07",
   "metadata": {},
   "outputs": [
    {
     "data": {
      "text/html": [
       "<div>\n",
       "<style scoped>\n",
       "    .dataframe tbody tr th:only-of-type {\n",
       "        vertical-align: middle;\n",
       "    }\n",
       "\n",
       "    .dataframe tbody tr th {\n",
       "        vertical-align: top;\n",
       "    }\n",
       "\n",
       "    .dataframe thead th {\n",
       "        text-align: right;\n",
       "    }\n",
       "</style>\n",
       "<table border=\"1\" class=\"dataframe\">\n",
       "  <thead>\n",
       "    <tr style=\"text-align: right;\">\n",
       "      <th></th>\n",
       "      <th>Column11</th>\n",
       "      <th>Column12</th>\n",
       "      <th>Column13</th>\n",
       "      <th>Column14</th>\n",
       "      <th>Column15</th>\n",
       "      <th>Column16</th>\n",
       "      <th>Column17</th>\n",
       "      <th>Column18</th>\n",
       "      <th>Column19</th>\n",
       "      <th>Column20</th>\n",
       "      <th>Column21</th>\n",
       "      <th>Column22</th>\n",
       "      <th>Column23</th>\n",
       "      <th>Column24</th>\n",
       "      <th>Column25</th>\n",
       "      <th>Column26</th>\n",
       "      <th>Column27</th>\n",
       "      <th>Column28</th>\n",
       "      <th>Column29</th>\n",
       "      <th>Column30</th>\n",
       "    </tr>\n",
       "  </thead>\n",
       "  <tbody>\n",
       "    <tr>\n",
       "      <th>636</th>\n",
       "      <td>H2</td>\n",
       "      <td>False</td>\n",
       "      <td>False</td>\n",
       "      <td>False</td>\n",
       "      <td>False</td>\n",
       "      <td>False</td>\n",
       "      <td>False</td>\n",
       "      <td>False</td>\n",
       "      <td>False</td>\n",
       "      <td>False</td>\n",
       "      <td>False</td>\n",
       "      <td>False</td>\n",
       "      <td>False</td>\n",
       "      <td>False</td>\n",
       "      <td>False</td>\n",
       "      <td>NaN</td>\n",
       "      <td>NaN</td>\n",
       "      <td>NaN</td>\n",
       "      <td>NaN</td>\n",
       "      <td>NaN</td>\n",
       "    </tr>\n",
       "  </tbody>\n",
       "</table>\n",
       "</div>"
      ],
      "text/plain": [
       "    Column11  Column12  Column13  Column14  Column15  Column16  Column17  \\\n",
       "636       H2     False     False     False     False     False     False   \n",
       "\n",
       "     Column18  Column19  Column20  Column21  Column22  Column23  Column24  \\\n",
       "636     False     False     False     False     False     False     False   \n",
       "\n",
       "     Column25 Column26  Column27  Column28  Column29  Column30  \n",
       "636     False      NaN       NaN       NaN       NaN       NaN  "
      ]
     },
     "execution_count": 126,
     "metadata": {},
     "output_type": "execute_result"
    }
   ],
   "source": [
    "raw_data[raw_data['Column3']=='ALB'].iloc[:,10:30]"
   ]
  },
  {
   "cell_type": "code",
   "execution_count": 129,
   "id": "92038758",
   "metadata": {},
   "outputs": [],
   "source": [
    "references = pd.read_excel(_FILE_DIR+'Hydrogen_projects_database_public_version.xlsx', sheet_name='References', header=1)"
   ]
  },
  {
   "cell_type": "code",
   "execution_count": 130,
   "id": "72169c47",
   "metadata": {},
   "outputs": [
    {
     "data": {
      "text/html": [
       "<div>\n",
       "<style scoped>\n",
       "    .dataframe tbody tr th:only-of-type {\n",
       "        vertical-align: middle;\n",
       "    }\n",
       "\n",
       "    .dataframe tbody tr th {\n",
       "        vertical-align: top;\n",
       "    }\n",
       "\n",
       "    .dataframe thead th {\n",
       "        text-align: right;\n",
       "    }\n",
       "</style>\n",
       "<table border=\"1\" class=\"dataframe\">\n",
       "  <thead>\n",
       "    <tr style=\"text-align: right;\">\n",
       "      <th></th>\n",
       "      <th>Number</th>\n",
       "      <th>Reference</th>\n",
       "    </tr>\n",
       "  </thead>\n",
       "  <tbody>\n",
       "    <tr>\n",
       "      <th>0</th>\n",
       "      <td>1</td>\n",
       "      <td>Energieinstitut an der Johannes Kepler Univers...</td>\n",
       "    </tr>\n",
       "    <tr>\n",
       "      <th>1</th>\n",
       "      <td>2</td>\n",
       "      <td>European Power-to-Gas platform - Power-to-Gas ...</td>\n",
       "    </tr>\n",
       "    <tr>\n",
       "      <th>2</th>\n",
       "      <td>3</td>\n",
       "      <td>Bailera et al., 2017. Power to Gas projects re...</td>\n",
       "    </tr>\n",
       "    <tr>\n",
       "      <th>3</th>\n",
       "      <td>4</td>\n",
       "      <td>F. Smeets and D. Thomas, 2017, HyBALANCE : sta...</td>\n",
       "    </tr>\n",
       "    <tr>\n",
       "      <th>4</th>\n",
       "      <td>5</td>\n",
       "      <td>G. Gahleitner, 2013. Hydrogen from renewable e...</td>\n",
       "    </tr>\n",
       "    <tr>\n",
       "      <th>...</th>\n",
       "      <td>...</td>\n",
       "      <td>...</td>\n",
       "    </tr>\n",
       "    <tr>\n",
       "      <th>1578</th>\n",
       "      <td>1579</td>\n",
       "      <td>https://energynews.biz/elcogen-provides-electr...</td>\n",
       "    </tr>\n",
       "    <tr>\n",
       "      <th>1579</th>\n",
       "      <td>1580</td>\n",
       "      <td>https://www.equinor.com/news/archive/20211215-...</td>\n",
       "    </tr>\n",
       "    <tr>\n",
       "      <th>1580</th>\n",
       "      <td>1581</td>\n",
       "      <td>https://www.lhyfe.com/press/lhyfe-and-enerparc...</td>\n",
       "    </tr>\n",
       "    <tr>\n",
       "      <th>1581</th>\n",
       "      <td>1582</td>\n",
       "      <td>https://renewablesnow.com/news/rwe-to-study-gi...</td>\n",
       "    </tr>\n",
       "    <tr>\n",
       "      <th>1582</th>\n",
       "      <td>1583</td>\n",
       "      <td>https://oge.net/en/sustainable/projects/our-hy...</td>\n",
       "    </tr>\n",
       "  </tbody>\n",
       "</table>\n",
       "<p>1583 rows × 2 columns</p>\n",
       "</div>"
      ],
      "text/plain": [
       "      Number                                          Reference\n",
       "0          1  Energieinstitut an der Johannes Kepler Univers...\n",
       "1          2  European Power-to-Gas platform - Power-to-Gas ...\n",
       "2          3  Bailera et al., 2017. Power to Gas projects re...\n",
       "3          4  F. Smeets and D. Thomas, 2017, HyBALANCE : sta...\n",
       "4          5  G. Gahleitner, 2013. Hydrogen from renewable e...\n",
       "...      ...                                                ...\n",
       "1578    1579  https://energynews.biz/elcogen-provides-electr...\n",
       "1579    1580  https://www.equinor.com/news/archive/20211215-...\n",
       "1580    1581  https://www.lhyfe.com/press/lhyfe-and-enerparc...\n",
       "1581    1582  https://renewablesnow.com/news/rwe-to-study-gi...\n",
       "1582    1583  https://oge.net/en/sustainable/projects/our-hy...\n",
       "\n",
       "[1583 rows x 2 columns]"
      ]
     },
     "execution_count": 130,
     "metadata": {},
     "output_type": "execute_result"
    }
   ],
   "source": [
    "references"
   ]
  },
  {
   "cell_type": "code",
   "execution_count": null,
   "id": "68fb5c73",
   "metadata": {},
   "outputs": [],
   "source": []
  },
  {
   "cell_type": "code",
   "execution_count": 78,
   "id": "44df9bb6",
   "metadata": {},
   "outputs": [],
   "source": [
    "from datetime import datetime\n",
    "import pytz\n",
    "\n",
    "tz = pytz.timezone('Europe/Berlin')\n",
    "berlin_now = datetime.now(tz)"
   ]
  },
  {
   "cell_type": "code",
   "execution_count": 79,
   "id": "551b4c8d",
   "metadata": {},
   "outputs": [
    {
     "data": {
      "text/plain": [
       "datetime.datetime(2023, 5, 18, 12, 42, 47, 734766, tzinfo=<DstTzInfo 'Europe/Berlin' CEST+2:00:00 DST>)"
      ]
     },
     "execution_count": 79,
     "metadata": {},
     "output_type": "execute_result"
    }
   ],
   "source": [
    "berlin_now"
   ]
  },
  {
   "cell_type": "code",
   "execution_count": 107,
   "id": "f890371b",
   "metadata": {},
   "outputs": [],
   "source": [
    "test_list = raw_data.columns.to_list()"
   ]
  },
  {
   "cell_type": "code",
   "execution_count": null,
   "id": "39356341",
   "metadata": {},
   "outputs": [],
   "source": [
    "if col[-1]=='1'"
   ]
  },
  {
   "cell_type": "code",
   "execution_count": 112,
   "id": "de402e90",
   "metadata": {},
   "outputs": [
    {
     "data": {
      "text/plain": [
       "['Column1', 'Column11', 'Column21', 'Column31']"
      ]
     },
     "execution_count": 112,
     "metadata": {},
     "output_type": "execute_result"
    }
   ],
   "source": [
    "[col for col in test_list if col[-1]=='1']"
   ]
  },
  {
   "cell_type": "code",
   "execution_count": null,
   "id": "ff2adf19",
   "metadata": {},
   "outputs": [],
   "source": []
  }
 ],
 "metadata": {
  "kernelspec": {
   "display_name": "Python 3 (ipykernel)",
   "language": "python",
   "name": "python3"
  },
  "language_info": {
   "codemirror_mode": {
    "name": "ipython",
    "version": 3
   },
   "file_extension": ".py",
   "mimetype": "text/x-python",
   "name": "python",
   "nbconvert_exporter": "python",
   "pygments_lexer": "ipython3",
   "version": "3.10.9"
  }
 },
 "nbformat": 4,
 "nbformat_minor": 5
}
